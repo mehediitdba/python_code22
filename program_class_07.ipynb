{
 "cells": [
  {
   "cell_type": "markdown",
   "metadata": {},
   "source": [
    "# OOP\n",
    "-Class\n",
    "\n",
    "-Object"
   ]
  },
  {
   "cell_type": "code",
   "execution_count": 16,
   "metadata": {},
   "outputs": [],
   "source": [
    "class Product:\n",
    "    # class features\n",
    "    platform = 'Amazon'\n",
    "\n",
    "    #constructor\n",
    "    def __init__(self, pid: int, title: str, price: float):\n",
    "        self.pid = pid\n",
    "        self.title = title\n",
    "        self.price = price\n",
    "        \n",
    "\n",
    "    # Behavoiurs or Methods\n",
    "    def getPrice(self) -> float:\n",
    "        return self.price\n",
    "    def updatePrice(self, newPrice: float) -> float:\n",
    "        self.price=newPrice\n",
    "        return self.price\n",
    "\n",
    "    # Special function\n",
    "    def __str__(self) -> str:\n",
    "        return f\"Product(pid=(self.pid), title=\"\n",
    "    def __repr__(self) -> str:\n",
    "        return self.__str__()\n",
    "\n"
   ]
  },
  {
   "cell_type": "code",
   "execution_count": 7,
   "metadata": {},
   "outputs": [
    {
     "name": "stdout",
     "output_type": "stream",
     "text": [
      "<__main__.Product object at 0x0000023A560A7B50>\n"
     ]
    }
   ],
   "source": [
    "# Creation of Object\n",
    "x30 = Product(12321, \"Nokia x30\", 60000.0)\n",
    "#x30\n",
    "print(x30)"
   ]
  },
  {
   "cell_type": "code",
   "execution_count": 11,
   "metadata": {},
   "outputs": [
    {
     "data": {
      "text/plain": [
       "900000"
      ]
     },
     "execution_count": 11,
     "metadata": {},
     "output_type": "execute_result"
    }
   ],
   "source": [
    "# accessing features\n",
    "x30.platform\n",
    "x30.title\n",
    "x30.price\n",
    "x30.price = 900000\n",
    "x30.price"
   ]
  },
  {
   "cell_type": "code",
   "execution_count": 13,
   "metadata": {},
   "outputs": [
    {
     "data": {
      "text/plain": [
       "1200000"
      ]
     },
     "execution_count": 13,
     "metadata": {},
     "output_type": "execute_result"
    }
   ],
   "source": [
    "x30.updatePrice(1200000)"
   ]
  },
  {
   "cell_type": "code",
   "execution_count": 14,
   "metadata": {},
   "outputs": [
    {
     "data": {
      "text/plain": [
       "6700000.0"
      ]
     },
     "execution_count": 14,
     "metadata": {},
     "output_type": "execute_result"
    }
   ],
   "source": [
    "x20 = Product(323, \"Nokia x20\", 6700000.0)\n",
    "x20.price"
   ]
  },
  {
   "cell_type": "code",
   "execution_count": 49,
   "metadata": {},
   "outputs": [],
   "source": [
    "class Products:\n",
    "    # class features\n",
    "    platform = 'Amazon'\n",
    "\n",
    "    #constructor\n",
    "    def __init__(self, pid: int, title: str, price: float):\n",
    "        self.pid = pid\n",
    "        self.title = title\n",
    "        self.price = price\n",
    "        self.__secretCode = 745896\n",
    "        \n",
    "\n",
    "    # Behavoiurs or Methods\n",
    "    @property\n",
    "    def secretCode(self) -> float:\n",
    "        return self.__secretCode\n",
    "\n",
    "    @secretCode.setter\n",
    "    def secretCode(self, newCode: int) -> float:\n",
    "        self.__secretCode = newCode\n",
    "\n",
    "    @secretCode.deleter\n",
    "    def secretCode(self, newCode: int) -> float:\n",
    "        del self.__secretCode\n",
    "\n",
    "    # Special function\n",
    "    def __str__(self) -> str:\n",
    "        return f\"Product(pid=(self.pid), title=\"\n",
    "    def __repr__(self) -> str:\n",
    "        return self.__str__()\n",
    "\n",
    "    def __gt__(self, other):\n",
    "        return self.price > other.price\n",
    "\n",
    "    def __lt__(self, other):\n",
    "        return self.price < other.price\n",
    "\n",
    "    def __eq__(self, other):\n",
    "        return self.price == other.price\n",
    "\n",
    "    def __ge__(self, other):\n",
    "        return self.price >= other.price\n",
    "    \n",
    "    @classmethod\n",
    "    def objectFromStr(cls, string: str):\n",
    "        data= string.split('-')\n",
    "        obj = cls(int(data[0]), data[1], float(data[2]))\n",
    "        return obj\n",
    "\n",
    "    def add(a:int, b:int) -> int:\n",
    "        return a+b"
   ]
  },
  {
   "cell_type": "code",
   "execution_count": 31,
   "metadata": {},
   "outputs": [
    {
     "data": {
      "text/plain": [
       "745896"
      ]
     },
     "execution_count": 31,
     "metadata": {},
     "output_type": "execute_result"
    }
   ],
   "source": [
    "x40 = Products(2323, \"Nokia x40\", 120000.0)\n",
    "x40\n",
    "x40.secretCode # calling getter"
   ]
  },
  {
   "cell_type": "code",
   "execution_count": 36,
   "metadata": {},
   "outputs": [
    {
     "ename": "AttributeError",
     "evalue": "can't set attribute 'secretCode'",
     "output_type": "error",
     "traceback": [
      "\u001b[1;31m---------------------------------------------------------------------------\u001b[0m",
      "\u001b[1;31mAttributeError\u001b[0m                            Traceback (most recent call last)",
      "\u001b[1;32md:\\MY_DEVLOPMENT\\PYTHON\\HR_Venture\\pythone_code\\python_code22\\program_class_07.ipynb Cell 9'\u001b[0m in \u001b[0;36m<module>\u001b[1;34m\u001b[0m\n\u001b[1;32m----> <a href='vscode-notebook-cell:/d%3A/MY_DEVLOPMENT/PYTHON/HR_Venture/pythone_code/python_code22/program_class_07.ipynb#ch0000009?line=0'>1</a>\u001b[0m x40\u001b[39m.\u001b[39msecretCode \u001b[39m=\u001b[39m \u001b[39m12\u001b[39m\n",
      "\u001b[1;31mAttributeError\u001b[0m: can't set attribute 'secretCode'"
     ]
    }
   ],
   "source": [
    "x40.secretCode = 12 # calling setter"
   ]
  },
  {
   "cell_type": "code",
   "execution_count": 45,
   "metadata": {},
   "outputs": [
    {
     "ename": "TypeError",
     "evalue": "'>' not supported between instances of 'Product' and 'Products'",
     "output_type": "error",
     "traceback": [
      "\u001b[1;31m---------------------------------------------------------------------------\u001b[0m",
      "\u001b[1;31mTypeError\u001b[0m                                 Traceback (most recent call last)",
      "\u001b[1;32md:\\MY_DEVLOPMENT\\PYTHON\\HR_Venture\\pythone_code\\python_code22\\program_class_07.ipynb Cell 10'\u001b[0m in \u001b[0;36m<module>\u001b[1;34m\u001b[0m\n\u001b[0;32m      <a href='vscode-notebook-cell:/d%3A/MY_DEVLOPMENT/PYTHON/HR_Venture/pythone_code/python_code22/program_class_07.ipynb#ch0000010?line=0'>1</a>\u001b[0m \u001b[39m# Operator Overloading\u001b[39;00m\n\u001b[1;32m----> <a href='vscode-notebook-cell:/d%3A/MY_DEVLOPMENT/PYTHON/HR_Venture/pythone_code/python_code22/program_class_07.ipynb#ch0000010?line=1'>2</a>\u001b[0m x30 \u001b[39m>\u001b[39;49m x40\n",
      "\u001b[1;31mTypeError\u001b[0m: '>' not supported between instances of 'Product' and 'Products'"
     ]
    }
   ],
   "source": [
    "# Operator Overloading\n",
    "x30 > x40"
   ]
  },
  {
   "cell_type": "code",
   "execution_count": null,
   "metadata": {},
   "outputs": [],
   "source": [
    "# Online Banking System\n",
    "# Name, Email, Phone, Address\n",
    "# Default PIN \n",
    "# Account : Creation, Update, Closing, pin change\n",
    "# Transaction Operation : Deposit, Withdraw, Tranfer"
   ]
  }
 ],
 "metadata": {
  "interpreter": {
   "hash": "63b2014fe923bc11fc1089a45e8d8d32d8530e11d1dfc98edf4ada9c05eba13b"
  },
  "kernelspec": {
   "display_name": "Python 3.10.2 64-bit",
   "language": "python",
   "name": "python3"
  },
  "language_info": {
   "codemirror_mode": {
    "name": "ipython",
    "version": 3
   },
   "file_extension": ".py",
   "mimetype": "text/x-python",
   "name": "python",
   "nbconvert_exporter": "python",
   "pygments_lexer": "ipython3",
   "version": "3.10.2"
  },
  "orig_nbformat": 4
 },
 "nbformat": 4,
 "nbformat_minor": 2
}
