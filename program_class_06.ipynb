{
 "cells": [
  {
   "cell_type": "markdown",
   "metadata": {},
   "source": [
    "# FOR LOOP"
   ]
  },
  {
   "cell_type": "code",
   "execution_count": 8,
   "metadata": {},
   "outputs": [
    {
     "name": "stdout",
     "output_type": "stream",
     "text": [
      "P\n",
      "y\n",
      "t\n",
      "h\n",
      "o\n",
      "n\n"
     ]
    }
   ],
   "source": [
    "for i in \"Python\":\n",
    "    print(i)"
   ]
  },
  {
   "cell_type": "code",
   "execution_count": 10,
   "metadata": {},
   "outputs": [
    {
     "name": "stdout",
     "output_type": "stream",
     "text": [
      "1\n",
      "2\n",
      "3\n",
      "4\n",
      "5\n",
      "6\n",
      "7\n",
      "8\n"
     ]
    }
   ],
   "source": [
    "for j in [1,2,3,4,5,6,7,8]:\n",
    "    print(j)"
   ]
  },
  {
   "cell_type": "code",
   "execution_count": 12,
   "metadata": {},
   "outputs": [
    {
     "name": "stdout",
     "output_type": "stream",
     "text": [
      "2\n",
      "3\n",
      "3\n",
      "4\n",
      "4\n",
      "4\n",
      "5\n",
      "6\n",
      "7\n",
      "8\n"
     ]
    }
   ],
   "source": [
    "for k in (2,3,3,4,4,4,5,6,7,8):\n",
    "    print(k)"
   ]
  },
  {
   "cell_type": "code",
   "execution_count": 13,
   "metadata": {},
   "outputs": [
    {
     "name": "stdout",
     "output_type": "stream",
     "text": [
      "323\n",
      "3\n",
      "4\n",
      "5\n",
      "6\n",
      "8\n",
      "44\n"
     ]
    }
   ],
   "source": [
    "for l in {3,3,4,5,6,6,8,44,323}:\n",
    "    print(l)"
   ]
  },
  {
   "cell_type": "code",
   "execution_count": 22,
   "metadata": {},
   "outputs": [
    {
     "name": "stdout",
     "output_type": "stream",
     "text": [
      "(1, 1)\n",
      "(2, 4)\n",
      "(3, 9)\n"
     ]
    }
   ],
   "source": [
    "for item in {1:1, 2:4, 3:9}.items():\n",
    "    print(item)"
   ]
  },
  {
   "cell_type": "code",
   "execution_count": 17,
   "metadata": {},
   "outputs": [
    {
     "name": "stdout",
     "output_type": "stream",
     "text": [
      "1 => 1\n",
      "2 => 4\n",
      "3 => 9\n"
     ]
    }
   ],
   "source": [
    "for key, value in {1:1, 2:4, 3:9}.items():\n",
    "    print(key, '=>', value)"
   ]
  },
  {
   "cell_type": "code",
   "execution_count": 21,
   "metadata": {},
   "outputs": [
    {
     "name": "stdout",
     "output_type": "stream",
     "text": [
      "[2, 3, 4]\n",
      "[2, 3, 4]\n",
      "[2, 3, 4]\n",
      "[5, 2, 3]\n",
      "[5, 2, 3]\n",
      "[5, 2, 3]\n",
      "[4, 6, 8]\n",
      "[4, 6, 8]\n",
      "[4, 6, 8]\n"
     ]
    }
   ],
   "source": [
    "data = [\n",
    "    [2,3,4],\n",
    "    [5,2,3],\n",
    "    [4,6,8]\n",
    "]\n",
    "for row in data:\n",
    "   # print(row)\n",
    "    for column in row:\n",
    "        print(row)"
   ]
  },
  {
   "cell_type": "code",
   "execution_count": 24,
   "metadata": {},
   "outputs": [
    {
     "data": {
      "text/plain": [
       "[1, 2, 3, 4, 5, 6, 7, 8, 9]"
      ]
     },
     "execution_count": 24,
     "metadata": {},
     "output_type": "execute_result"
    }
   ],
   "source": [
    "list(range(1,10))"
   ]
  },
  {
   "cell_type": "code",
   "execution_count": 28,
   "metadata": {},
   "outputs": [
    {
     "name": "stdout",
     "output_type": "stream",
     "text": [
      "1\n",
      "1\n",
      "2\n",
      "4\n",
      "3\n",
      "9\n",
      "4\n",
      "16\n",
      "5\n",
      "25\n",
      "6\n",
      "36\n",
      "7\n",
      "49\n",
      "8\n",
      "64\n",
      "9\n",
      "81\n"
     ]
    }
   ],
   "source": [
    "for num in range(1,10):\n",
    "    print(num)\n",
    "    print(num**2)"
   ]
  },
  {
   "cell_type": "code",
   "execution_count": 31,
   "metadata": {},
   "outputs": [
    {
     "data": {
      "text/plain": [
       "[1, 4, 27, 16, 125, 36, 343, 64, 729]"
      ]
     },
     "execution_count": 31,
     "metadata": {},
     "output_type": "execute_result"
    }
   ],
   "source": [
    "powers = []\n",
    "for num in range(1,10):\n",
    "    if num%2 == 0:\n",
    "        powers.append(num**2)\n",
    "    else:\n",
    "        powers.append(num**3)\n",
    "powers"
   ]
  },
  {
   "cell_type": "markdown",
   "metadata": {},
   "source": [
    "#  List Comprehansion"
   ]
  },
  {
   "cell_type": "code",
   "execution_count": 34,
   "metadata": {},
   "outputs": [
    {
     "data": {
      "text/plain": [
       "81"
      ]
     },
     "execution_count": 34,
     "metadata": {},
     "output_type": "execute_result"
    }
   ],
   "source": [
    "powersList=[num**2 if num%2 == 0 else num**3 for num in range(1,10)]\n",
    "powersList"
   ]
  },
  {
   "cell_type": "code",
   "execution_count": 35,
   "metadata": {},
   "outputs": [
    {
     "data": {
      "text/plain": [
       "[1, 12, 27, 80, 125, 252, 343, 576, 729]"
      ]
     },
     "execution_count": 35,
     "metadata": {},
     "output_type": "execute_result"
    }
   ],
   "source": [
    "powersList=[num**2 + num**3 if num%2 == 0 else num**3 for num in range(1,10)]\n",
    "powersList"
   ]
  },
  {
   "cell_type": "code",
   "execution_count": 40,
   "metadata": {},
   "outputs": [
    {
     "data": {
      "text/plain": [
       "[4, 9, 16, 25, 4, 9, 16, 36, 64]"
      ]
     },
     "execution_count": 40,
     "metadata": {},
     "output_type": "execute_result"
    }
   ],
   "source": [
    "mdata = [col**2 for row in data for col in row]\n",
    "mdata"
   ]
  },
  {
   "cell_type": "code",
   "execution_count": null,
   "metadata": {},
   "outputs": [],
   "source": [
    "mdata = [c1**2 for row in data for col in row]\n",
    "mdata"
   ]
  },
  {
   "cell_type": "markdown",
   "metadata": {},
   "source": [
    "\n",
    "# Smart Door | password = 'open@'\n",
    "- That should take password fom user  \n",
    "- match the password || show wrong password, try again or Door is opening\n",
    "- maximum try is 3\n",
    "- ask for security question || fav_color='black'\n",
    "- if security answer is  correct the help the user to reset password\n",
    "- otherwise lock the door\n",
    " "
   ]
  },
  {
   "cell_type": "markdown",
   "metadata": {},
   "source": [
    " That should take password fom user  \n",
    " match the password || show wrong password, try again or Door is opening\n",
    " maximum try is 3\n",
    " ask for security question || fav_color='black'\n",
    " if security answer is  correct the help the user to reset password\n",
    " otherwise lock the door\n",
    " "
   ]
  },
  {
   "cell_type": "markdown",
   "metadata": {},
   "source": [
    "# Function"
   ]
  },
  {
   "cell_type": "code",
   "execution_count": 43,
   "metadata": {},
   "outputs": [],
   "source": [
    "#function defination\n",
    "def greet():\n",
    "    print(\"Good Morning!\")\n",
    "    print(\"Welcome to Python!\")\n"
   ]
  },
  {
   "cell_type": "code",
   "execution_count": 45,
   "metadata": {},
   "outputs": [
    {
     "name": "stdout",
     "output_type": "stream",
     "text": [
      "Good Morning!\n",
      "Welcome to Python!\n"
     ]
    }
   ],
   "source": [
    "#call cunction\n",
    "greet()"
   ]
  },
  {
   "cell_type": "markdown",
   "metadata": {},
   "source": [
    "# function with args"
   ]
  },
  {
   "cell_type": "code",
   "execution_count": 55,
   "metadata": {},
   "outputs": [],
   "source": [
    "def is_even(num: int ) ->  bool:\n",
    "    \"\"\"\n",
    "    This function return boolian \n",
    "    \"\"\"\n",
    "    if num%2 == 0:\n",
    "       # print(True)\n",
    "       return True\n",
    "    else:\n",
    "        #print(False)\n",
    "        return False"
   ]
  },
  {
   "cell_type": "code",
   "execution_count": 57,
   "metadata": {},
   "outputs": [
    {
     "data": {
      "text/plain": [
       "True"
      ]
     },
     "execution_count": 57,
     "metadata": {},
     "output_type": "execute_result"
    }
   ],
   "source": [
    "is_even(4)\n",
    "r= is_even(4)\n",
    "r"
   ]
  },
  {
   "cell_type": "code",
   "execution_count": 2,
   "metadata": {},
   "outputs": [],
   "source": [
    "def is_even(*nums: int ) ->  list:\n",
    "    \"\"\"\n",
    "    This function return boolian \n",
    "    \"\"\"\n",
    "    r=[]\n",
    "    for num in nums:\n",
    "        if num%2 == 0:\n",
    "        # print(True)\n",
    "            r.append(True)\n",
    "        else:\n",
    "            #print(False)\n",
    "            r.append(False)\n",
    "    return r"
   ]
  },
  {
   "cell_type": "code",
   "execution_count": 3,
   "metadata": {},
   "outputs": [
    {
     "ename": "TypeError",
     "evalue": "unsupported operand type(s) for %: 'list' and 'int'",
     "output_type": "error",
     "traceback": [
      "\u001b[1;31m---------------------------------------------------------------------------\u001b[0m",
      "\u001b[1;31mTypeError\u001b[0m                                 Traceback (most recent call last)",
      "\u001b[1;32md:\\MY_DEVLOPMENT\\PYTHON\\HR_Venture\\pythone_code\\python_code22\\program_class_06.ipynb Cell 26'\u001b[0m in \u001b[0;36m<module>\u001b[1;34m\u001b[0m\n\u001b[1;32m----> <a href='vscode-notebook-cell:/d%3A/MY_DEVLOPMENT/PYTHON/HR_Venture/pythone_code/python_code22/program_class_06.ipynb#ch0000025?line=0'>1</a>\u001b[0m is_even([\u001b[39m2\u001b[39;49m,\u001b[39m3\u001b[39;49m,\u001b[39m4\u001b[39;49m,\u001b[39m5\u001b[39;49m])\n",
      "\u001b[1;32md:\\MY_DEVLOPMENT\\PYTHON\\HR_Venture\\pythone_code\\python_code22\\program_class_06.ipynb Cell 25'\u001b[0m in \u001b[0;36mis_even\u001b[1;34m(*nums)\u001b[0m\n\u001b[0;32m      <a href='vscode-notebook-cell:/d%3A/MY_DEVLOPMENT/PYTHON/HR_Venture/pythone_code/python_code22/program_class_06.ipynb#ch0000024?line=4'>5</a>\u001b[0m r\u001b[39m=\u001b[39m[]\n\u001b[0;32m      <a href='vscode-notebook-cell:/d%3A/MY_DEVLOPMENT/PYTHON/HR_Venture/pythone_code/python_code22/program_class_06.ipynb#ch0000024?line=5'>6</a>\u001b[0m \u001b[39mfor\u001b[39;00m num \u001b[39min\u001b[39;00m nums:\n\u001b[1;32m----> <a href='vscode-notebook-cell:/d%3A/MY_DEVLOPMENT/PYTHON/HR_Venture/pythone_code/python_code22/program_class_06.ipynb#ch0000024?line=6'>7</a>\u001b[0m     \u001b[39mif\u001b[39;00m num\u001b[39m%\u001b[39;49m\u001b[39m2\u001b[39;49m \u001b[39m==\u001b[39m \u001b[39m0\u001b[39m:\n\u001b[0;32m      <a href='vscode-notebook-cell:/d%3A/MY_DEVLOPMENT/PYTHON/HR_Venture/pythone_code/python_code22/program_class_06.ipynb#ch0000024?line=7'>8</a>\u001b[0m     \u001b[39m# print(True)\u001b[39;00m\n\u001b[0;32m      <a href='vscode-notebook-cell:/d%3A/MY_DEVLOPMENT/PYTHON/HR_Venture/pythone_code/python_code22/program_class_06.ipynb#ch0000024?line=8'>9</a>\u001b[0m         r\u001b[39m.\u001b[39mappend(\u001b[39mTrue\u001b[39;00m)\n\u001b[0;32m     <a href='vscode-notebook-cell:/d%3A/MY_DEVLOPMENT/PYTHON/HR_Venture/pythone_code/python_code22/program_class_06.ipynb#ch0000024?line=9'>10</a>\u001b[0m     \u001b[39melse\u001b[39;00m:\n\u001b[0;32m     <a href='vscode-notebook-cell:/d%3A/MY_DEVLOPMENT/PYTHON/HR_Venture/pythone_code/python_code22/program_class_06.ipynb#ch0000024?line=10'>11</a>\u001b[0m         \u001b[39m#print(False)\u001b[39;00m\n",
      "\u001b[1;31mTypeError\u001b[0m: unsupported operand type(s) for %: 'list' and 'int'"
     ]
    }
   ],
   "source": [
    "is_even([2,3,4,5])"
   ]
  },
  {
   "cell_type": "code",
   "execution_count": 1,
   "metadata": {},
   "outputs": [],
   "source": [
    "def is_even(nums: list = [2,3]) ->  list:\n",
    "    \"\"\"\n",
    "    This function return boolian \n",
    "    \"\"\"\n",
    "    r=[]\n",
    "    for num in nums:\n",
    "        if num%2 == 0:\n",
    "        # print(True)\n",
    "            r.append(True)\n",
    "        else:\n",
    "            #print(False)\n",
    "            r.append(False)\n",
    "    return r"
   ]
  },
  {
   "cell_type": "code",
   "execution_count": 80,
   "metadata": {},
   "outputs": [],
   "source": [
    "def login(username:str = None, email:str=None, password:str = None):\n",
    "    print(\"Username : \", username)\n",
    "    print(\"Email : \", email)\n",
    "    print(\"Password : \", password)\n"
   ]
  },
  {
   "cell_type": "code",
   "execution_count": 81,
   "metadata": {},
   "outputs": [
    {
     "name": "stdout",
     "output_type": "stream",
     "text": [
      "Username :  kk\n",
      "Email :  mm\n",
      "Password :  ab2\n"
     ]
    }
   ],
   "source": [
    "login(\"kk\", \"mm\", \"ab2\")"
   ]
  },
  {
   "cell_type": "markdown",
   "metadata": {},
   "source": [
    "# dynamic keywrk function"
   ]
  },
  {
   "cell_type": "code",
   "execution_count": 83,
   "metadata": {},
   "outputs": [],
   "source": [
    "def login(**kwargs):\n",
    "    for key, val in kwargs.items():\n",
    "        print(key, \":\", val)"
   ]
  },
  {
   "cell_type": "code",
   "execution_count": 85,
   "metadata": {},
   "outputs": [
    {
     "name": "stdout",
     "output_type": "stream",
     "text": [
      "email : ma\n",
      "username : kal\n",
      "password : ka\n",
      "ph : ka\n"
     ]
    }
   ],
   "source": [
    "login(email=\"ma\", username=\"kal\", password=\"ka\", ph=\"ka\")"
   ]
  }
 ],
 "metadata": {
  "interpreter": {
   "hash": "63b2014fe923bc11fc1089a45e8d8d32d8530e11d1dfc98edf4ada9c05eba13b"
  },
  "kernelspec": {
   "display_name": "Python 3.10.2 64-bit",
   "language": "python",
   "name": "python3"
  },
  "language_info": {
   "codemirror_mode": {
    "name": "ipython",
    "version": 3
   },
   "file_extension": ".py",
   "mimetype": "text/x-python",
   "name": "python",
   "nbconvert_exporter": "python",
   "pygments_lexer": "ipython3",
   "version": "3.10.2"
  },
  "orig_nbformat": 4
 },
 "nbformat": 4,
 "nbformat_minor": 2
}
