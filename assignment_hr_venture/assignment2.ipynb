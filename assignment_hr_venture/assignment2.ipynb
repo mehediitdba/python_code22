{
 "cells": [
  {
   "cell_type": "code",
   "execution_count": 183,
   "metadata": {},
   "outputs": [],
   "source": [
    "# Online Banking System\n",
    "# Name, Email, Phone, Address\n",
    "# Default PIN \n",
    "# Account : Creation, Update, Closing, pin change\n",
    "# Transaction Operation : Deposit, Withdraw, Tranfer"
   ]
  },
  {
   "cell_type": "code",
   "execution_count": 114,
   "metadata": {},
   "outputs": [
    {
     "name": "stdout",
     "output_type": "stream",
     "text": [
      "1. Do You Want to Create Account? 'y/n' \n"
     ]
    },
    {
     "ename": "KeyboardInterrupt",
     "evalue": "Interrupted by user",
     "output_type": "error",
     "traceback": [
      "\u001b[1;31m---------------------------------------------------------------------------\u001b[0m",
      "\u001b[1;31mKeyboardInterrupt\u001b[0m                         Traceback (most recent call last)",
      "\u001b[1;32md:\\MY_DEVLOPMENT\\PYTHON\\HR_Venture\\pythone_code\\python_code22\\assignment_hr_venture\\assignment2.ipynb Cell 2'\u001b[0m in \u001b[0;36m<module>\u001b[1;34m\u001b[0m\n\u001b[0;32m      <a href='vscode-notebook-cell:/d%3A/MY_DEVLOPMENT/PYTHON/HR_Venture/pythone_code/python_code22/assignment_hr_venture/assignment2.ipynb#ch0000003?line=2'>3</a>\u001b[0m p_message \u001b[39m=\u001b[39m \u001b[39m\"\u001b[39m\u001b[39mData Input Successfully..!!\u001b[39m\u001b[39m\"\u001b[39m\n\u001b[0;32m      <a href='vscode-notebook-cell:/d%3A/MY_DEVLOPMENT/PYTHON/HR_Venture/pythone_code/python_code22/assignment_hr_venture/assignment2.ipynb#ch0000003?line=4'>5</a>\u001b[0m \u001b[39mprint\u001b[39m(\u001b[39m\"\u001b[39m\u001b[39m1. Do You Want to Create Account? \u001b[39m\u001b[39m'\u001b[39m\u001b[39my/n\u001b[39m\u001b[39m'\u001b[39m\u001b[39m \u001b[39m\u001b[39m\"\u001b[39m)\n\u001b[1;32m----> <a href='vscode-notebook-cell:/d%3A/MY_DEVLOPMENT/PYTHON/HR_Venture/pythone_code/python_code22/assignment_hr_venture/assignment2.ipynb#ch0000003?line=6'>7</a>\u001b[0m my_dic \u001b[39m=\u001b[39m{\u001b[39m\"\u001b[39m\u001b[39mName\u001b[39m\u001b[39m\"\u001b[39m:\u001b[39minput\u001b[39;49m(\u001b[39m\"\u001b[39;49m\u001b[39mInput Your Name\u001b[39;49m\u001b[39m\"\u001b[39;49m), \u001b[39m\"\u001b[39m\u001b[39mEmail\u001b[39m\u001b[39m\"\u001b[39m:\u001b[39minput\u001b[39m(\u001b[39m\"\u001b[39m\u001b[39mInput Your Email\u001b[39m\u001b[39m\"\u001b[39m),\u001b[39m\"\u001b[39m\u001b[39mPhone\u001b[39m\u001b[39m\"\u001b[39m:\u001b[39minput\u001b[39m(\u001b[39m\"\u001b[39m\u001b[39mInput Your Phone No\u001b[39m\u001b[39m\"\u001b[39m),\u001b[39m\"\u001b[39m\u001b[39mAddress\u001b[39m\u001b[39m\"\u001b[39m:\u001b[39minput\u001b[39m(\u001b[39m\"\u001b[39m\u001b[39mInput Your Address\u001b[39m\u001b[39m\"\u001b[39m)}\n\u001b[0;32m      <a href='vscode-notebook-cell:/d%3A/MY_DEVLOPMENT/PYTHON/HR_Venture/pythone_code/python_code22/assignment_hr_venture/assignment2.ipynb#ch0000003?line=8'>9</a>\u001b[0m \u001b[39mfor\u001b[39;00m key, val \u001b[39min\u001b[39;00m my_dic\u001b[39m.\u001b[39mitems():\n\u001b[0;32m     <a href='vscode-notebook-cell:/d%3A/MY_DEVLOPMENT/PYTHON/HR_Venture/pythone_code/python_code22/assignment_hr_venture/assignment2.ipynb#ch0000003?line=9'>10</a>\u001b[0m         \u001b[39mprint\u001b[39m(\u001b[39m\"\u001b[39m\u001b[39mYour \u001b[39m\u001b[39m\"\u001b[39m\u001b[39m+\u001b[39mkey\u001b[39m+\u001b[39m\u001b[39m\"\u001b[39m\u001b[39m is :\u001b[39m\u001b[39m\"\u001b[39m, val)\n",
      "File \u001b[1;32m~\\AppData\\Roaming\\Python\\Python310\\site-packages\\ipykernel\\kernelbase.py:1075\u001b[0m, in \u001b[0;36mKernel.raw_input\u001b[1;34m(self, prompt)\u001b[0m\n\u001b[0;32m   <a href='file:///c%3A/Users/Administrator/AppData/Roaming/Python/Python310/site-packages/ipykernel/kernelbase.py?line=1070'>1071</a>\u001b[0m \u001b[39mif\u001b[39;00m \u001b[39mnot\u001b[39;00m \u001b[39mself\u001b[39m\u001b[39m.\u001b[39m_allow_stdin:\n\u001b[0;32m   <a href='file:///c%3A/Users/Administrator/AppData/Roaming/Python/Python310/site-packages/ipykernel/kernelbase.py?line=1071'>1072</a>\u001b[0m     \u001b[39mraise\u001b[39;00m StdinNotImplementedError(\n\u001b[0;32m   <a href='file:///c%3A/Users/Administrator/AppData/Roaming/Python/Python310/site-packages/ipykernel/kernelbase.py?line=1072'>1073</a>\u001b[0m         \u001b[39m\"\u001b[39m\u001b[39mraw_input was called, but this frontend does not support input requests.\u001b[39m\u001b[39m\"\u001b[39m\n\u001b[0;32m   <a href='file:///c%3A/Users/Administrator/AppData/Roaming/Python/Python310/site-packages/ipykernel/kernelbase.py?line=1073'>1074</a>\u001b[0m     )\n\u001b[1;32m-> <a href='file:///c%3A/Users/Administrator/AppData/Roaming/Python/Python310/site-packages/ipykernel/kernelbase.py?line=1074'>1075</a>\u001b[0m \u001b[39mreturn\u001b[39;00m \u001b[39mself\u001b[39;49m\u001b[39m.\u001b[39;49m_input_request(\n\u001b[0;32m   <a href='file:///c%3A/Users/Administrator/AppData/Roaming/Python/Python310/site-packages/ipykernel/kernelbase.py?line=1075'>1076</a>\u001b[0m     \u001b[39mstr\u001b[39;49m(prompt),\n\u001b[0;32m   <a href='file:///c%3A/Users/Administrator/AppData/Roaming/Python/Python310/site-packages/ipykernel/kernelbase.py?line=1076'>1077</a>\u001b[0m     \u001b[39mself\u001b[39;49m\u001b[39m.\u001b[39;49m_parent_ident[\u001b[39m\"\u001b[39;49m\u001b[39mshell\u001b[39;49m\u001b[39m\"\u001b[39;49m],\n\u001b[0;32m   <a href='file:///c%3A/Users/Administrator/AppData/Roaming/Python/Python310/site-packages/ipykernel/kernelbase.py?line=1077'>1078</a>\u001b[0m     \u001b[39mself\u001b[39;49m\u001b[39m.\u001b[39;49mget_parent(\u001b[39m\"\u001b[39;49m\u001b[39mshell\u001b[39;49m\u001b[39m\"\u001b[39;49m),\n\u001b[0;32m   <a href='file:///c%3A/Users/Administrator/AppData/Roaming/Python/Python310/site-packages/ipykernel/kernelbase.py?line=1078'>1079</a>\u001b[0m     password\u001b[39m=\u001b[39;49m\u001b[39mFalse\u001b[39;49;00m,\n\u001b[0;32m   <a href='file:///c%3A/Users/Administrator/AppData/Roaming/Python/Python310/site-packages/ipykernel/kernelbase.py?line=1079'>1080</a>\u001b[0m )\n",
      "File \u001b[1;32m~\\AppData\\Roaming\\Python\\Python310\\site-packages\\ipykernel\\kernelbase.py:1120\u001b[0m, in \u001b[0;36mKernel._input_request\u001b[1;34m(self, prompt, ident, parent, password)\u001b[0m\n\u001b[0;32m   <a href='file:///c%3A/Users/Administrator/AppData/Roaming/Python/Python310/site-packages/ipykernel/kernelbase.py?line=1116'>1117</a>\u001b[0m             \u001b[39mbreak\u001b[39;00m\n\u001b[0;32m   <a href='file:///c%3A/Users/Administrator/AppData/Roaming/Python/Python310/site-packages/ipykernel/kernelbase.py?line=1117'>1118</a>\u001b[0m \u001b[39mexcept\u001b[39;00m \u001b[39mKeyboardInterrupt\u001b[39;00m:\n\u001b[0;32m   <a href='file:///c%3A/Users/Administrator/AppData/Roaming/Python/Python310/site-packages/ipykernel/kernelbase.py?line=1118'>1119</a>\u001b[0m     \u001b[39m# re-raise KeyboardInterrupt, to truncate traceback\u001b[39;00m\n\u001b[1;32m-> <a href='file:///c%3A/Users/Administrator/AppData/Roaming/Python/Python310/site-packages/ipykernel/kernelbase.py?line=1119'>1120</a>\u001b[0m     \u001b[39mraise\u001b[39;00m \u001b[39mKeyboardInterrupt\u001b[39;00m(\u001b[39m\"\u001b[39m\u001b[39mInterrupted by user\u001b[39m\u001b[39m\"\u001b[39m) \u001b[39mfrom\u001b[39;00m \u001b[39mNone\u001b[39m\n\u001b[0;32m   <a href='file:///c%3A/Users/Administrator/AppData/Roaming/Python/Python310/site-packages/ipykernel/kernelbase.py?line=1120'>1121</a>\u001b[0m \u001b[39mexcept\u001b[39;00m \u001b[39mException\u001b[39;00m:\n\u001b[0;32m   <a href='file:///c%3A/Users/Administrator/AppData/Roaming/Python/Python310/site-packages/ipykernel/kernelbase.py?line=1121'>1122</a>\u001b[0m     \u001b[39mself\u001b[39m\u001b[39m.\u001b[39mlog\u001b[39m.\u001b[39mwarning(\u001b[39m\"\u001b[39m\u001b[39mInvalid Message:\u001b[39m\u001b[39m\"\u001b[39m, exc_info\u001b[39m=\u001b[39m\u001b[39mTrue\u001b[39;00m)\n",
      "\u001b[1;31mKeyboardInterrupt\u001b[0m: Interrupted by user"
     ]
    }
   ],
   "source": [
    "import random\n",
    "w_messate = \"Welcome to Our Online Banking\"\n",
    "p_message = \"Data Input Successfully..!!\"\n",
    "\n",
    "my_dic ={\"Name\":input(\"Input Your Name\"), \"Email\":input(\"Input Your Email\"),\"Phone\":input(\"Input Your Phone No\"),\"Address\":input(\"Input Your Address\")}\n",
    "\n",
    "for key, val in my_dic.items():\n",
    "        print(\"Your \"+key+\" is :\", val)\n",
    "\n",
    "print(p_message)\n",
    "\n",
    "print(\"1. Do You Want to Create Account? 'y/n' \")\n",
    "\n"
   ]
  },
  {
   "cell_type": "code",
   "execution_count": 106,
   "metadata": {},
   "outputs": [
    {
     "ename": "TypeError",
     "evalue": "createAccount() missing 1 required positional argument: 'self'",
     "output_type": "error",
     "traceback": [
      "\u001b[1;31m---------------------------------------------------------------------------\u001b[0m",
      "\u001b[1;31mTypeError\u001b[0m                                 Traceback (most recent call last)",
      "\u001b[1;32md:\\MY_DEVLOPMENT\\PYTHON\\HR_Venture\\pythone_code\\python_code22\\assignment_hr_venture\\assignment2.ipynb Cell 3'\u001b[0m in \u001b[0;36m<module>\u001b[1;34m\u001b[0m\n\u001b[0;32m      <a href='vscode-notebook-cell:/d%3A/MY_DEVLOPMENT/PYTHON/HR_Venture/pythone_code/python_code22/assignment_hr_venture/assignment2.ipynb#ch0000008?line=8'>9</a>\u001b[0m        \u001b[39mself\u001b[39m\u001b[39m.\u001b[39mdeposit \u001b[39m=\u001b[39m \u001b[39mint\u001b[39m(\u001b[39minput\u001b[39m(\u001b[39m\"\u001b[39m\u001b[39mEnter The Initial amount(>=500 for Saving and >=1000 for current\u001b[39m\u001b[39m\"\u001b[39m))\n\u001b[0;32m     <a href='vscode-notebook-cell:/d%3A/MY_DEVLOPMENT/PYTHON/HR_Venture/pythone_code/python_code22/assignment_hr_venture/assignment2.ipynb#ch0000008?line=10'>11</a>\u001b[0m        \u001b[39mprint\u001b[39m(\u001b[39m\"\u001b[39m\u001b[39m\\n\u001b[39;00m\u001b[39m\\n\u001b[39;00m\u001b[39m\\n\u001b[39;00m\u001b[39mAccount Created\u001b[39m\u001b[39m\"\u001b[39m)\n\u001b[1;32m---> <a href='vscode-notebook-cell:/d%3A/MY_DEVLOPMENT/PYTHON/HR_Venture/pythone_code/python_code22/assignment_hr_venture/assignment2.ipynb#ch0000008?line=12'>13</a>\u001b[0m createAccount()\n",
      "\u001b[1;31mTypeError\u001b[0m: createAccount() missing 1 required positional argument: 'self'"
     ]
    }
   ],
   "source": [
    "def createAccount(self):\n",
    "\n",
    "       self.accNo= int(input(\"Enter the account no : \"))\n",
    "\n",
    "       self.name = input(\"Enter the account holder name : \")\n",
    "\n",
    "       self.type = input(\"Ente the type of account [C/S] : \")\n",
    "\n",
    "       self.deposit = int(input(\"Enter The Initial amount(>=500 for Saving and >=1000 for current\"))\n",
    "\n",
    "       print(\"\\n\\n\\nAccount Created\")\n",
    "\n"
   ]
  },
  {
   "cell_type": "code",
   "execution_count": null,
   "metadata": {},
   "outputs": [],
   "source": [
    "# generate random floating point values\n",
    "from random import seed\n",
    "from random import random\n",
    "# seed random number generator\n",
    "seed(1)\n",
    "# generate random numbers between 0-1\n",
    "\n",
    "for i in range(3):\n",
    "    value = random()\n",
    "    print(value)"
   ]
  },
  {
   "cell_type": "code",
   "execution_count": 39,
   "metadata": {},
   "outputs": [
    {
     "name": "stdout",
     "output_type": "stream",
     "text": [
      "a\n"
     ]
    }
   ],
   "source": [
    "my_dic ={\"Name\":input(\"Input Your Name\"), \"Email\":input(\"Input Your Email\"),\"Phone\":input(\"Input Your Phone No\"),\"Address\":input(\"Input Your Address\")}\n",
    "\n",
    "for key, val in my_dic.items():\n",
    "        print(\"Your \"+key+\" is :\", val)\n",
    "\n",
    "print(p_message)\n",
    "\n",
    "x = random.randint(9999)\n",
    "print(x)\n",
    "\n",
    "while True:\n",
    "    if not my_dic.items():\n",
    "        v_name = input(\"Input Your\")\n",
    "        v_n_len = len(v_name)\n",
    "        #print(v_n_len)\n",
    "        if v_n_len <= 0:\n",
    "            continue\n",
    "        else:\n",
    "            my_dic[\"Name\"]=v_name\n",
    "            break\n",
    "        \n",
    "my_dic2 ={\"Email\":input(\"Input Your Email\")}\n",
    "while True:\n",
    "    if not my_dic2[\"Email\"]:\n",
    "        v_email = input(\"Input Your Email \")\n",
    "        v_e_len = len(v_email)\n",
    "        #print(v_e_len)\n",
    "        if v_e_len <= 0:\n",
    "            continue\n",
    "        else:\n",
    "            my_dic2[\"Email\"]=v_email\n",
    "            break\n",
    "\n",
    "for key, val in my_dic2.items():\n",
    "        print(\"Your \"+key+\" is :\", val)\n",
    "\n",
    "\n",
    "my_dic3 ={\"Phone\":input(\"Input Your Phone No\")}\n",
    "while True:\n",
    "    if not my_dic3[\"Phone\"]:\n",
    "        v_phone = input(\"Input Your Phone \")\n",
    "        v_p_len = len(v_phone)\n",
    "        #print(v_p_len)\n",
    "        if v_p_len <= 0:\n",
    "            continue\n",
    "        else:\n",
    "            my_dic3[\"Phone\"]=v_phone\n",
    "            break\n",
    "\n",
    "for key, val in my_dic3.items():\n",
    "        print(\"Your \"+key+\" is :\", val)\n",
    "\n",
    "my_dic4 ={\"Address\":input(\"Input Your Address\")}\n",
    "while True:\n",
    "    if not my_dic4[\"Address\"]:\n",
    "        v_address = input(\"Input Your Address \")\n",
    "        v_a_len = len(v_address)\n",
    "        #print(v_a_len)\n",
    "        if v_a_len <= 0:\n",
    "            continue\n",
    "        else:\n",
    "            my_dic4[\"Address\"]=v_address\n",
    "            break\n",
    "        \n",
    "for key, val in my_dic4.items():\n",
    "        print(\"Your \"+key+\" is :\", val)\n",
    "        \n",
    "while my_dic[\"Name\"]:\n",
    "   input(\"Input Your Name \")\n",
    "   continue \n",
    "\n",
    "if my_dic[\"Name\"]:\n",
    "    print(\"a\")\n",
    "else:\n",
    "    print(\"n\")\n",
    "\n",
    "\n",
    "for key, val in my_dic.items():\n",
    "    v_value = len(val)\n",
    "    print(v_value)\n",
    "    if v_value < 1:\n",
    "        input(\"Input Your \" + key) \n",
    "    continue\n",
    "\n",
    "print(my_dic[\"Name\"])"
   ]
  },
  {
   "cell_type": "code",
   "execution_count": null,
   "metadata": {},
   "outputs": [],
   "source": [
    "x=input()\n",
    "if x:\n",
    "    print(x)\n",
    "else:\n",
    "    print('empty input')\n",
    "    \n",
    "if my_dic.items() is None:\n",
    "    print(\"ss\")\n",
    "\n",
    "for key, val in my_dic.items():\n",
    "    if val is None:\n",
    "        input(\"Input Your \" )+ key\n",
    "        print(\"Your \"+key+\" is :\", val)\n"
   ]
  },
  {
   "cell_type": "code",
   "execution_count": null,
   "metadata": {},
   "outputs": [],
   "source": [
    "for x in cust_data.values():\n",
    "\tv_count = str(v_count) + str(len(x))\n",
    "print(v_count)\n",
    "\n",
    "while True:\n",
    "    try:\n",
    "        dage = int(input(\"Enter your age: \"))\n",
    "    except ValueError:\n",
    "        print(\"This is an unaccepted response, enter a valid value\")\n",
    "        continue\n",
    "    else:\n",
    "        break"
   ]
  },
  {
   "cell_type": "code",
   "execution_count": null,
   "metadata": {},
   "outputs": [],
   "source": [
    "class Product:\n",
    "    # class features\n",
    "    platform = 'Amazon'\n",
    "\n",
    "    #constructor\n",
    "    def __init__(self, pid: int, title: str, price: float):\n",
    "        self.pid = pid\n",
    "        self.title = title\n",
    "        self.price = price\n",
    "        \n",
    "\n",
    "    # Behavoiurs or Methods\n",
    "    def getPrice(self) -> float:\n",
    "        return self.price\n",
    "    def updatePrice(self, newPrice: float) -> float:\n",
    "        self.price=newPrice\n",
    "        return self.price\n",
    "\n",
    "    # Special function\n",
    "    def __str__(self) -> str:\n",
    "        return f\"Product(pid=(self.pid), title=\"\n",
    "    def __repr__(self) -> str:\n",
    "        return self.__str__()\n"
   ]
  }
 ],
 "metadata": {
  "interpreter": {
   "hash": "63b2014fe923bc11fc1089a45e8d8d32d8530e11d1dfc98edf4ada9c05eba13b"
  },
  "kernelspec": {
   "display_name": "Python 3.10.2 64-bit",
   "language": "python",
   "name": "python3"
  },
  "language_info": {
   "codemirror_mode": {
    "name": "ipython",
    "version": 3
   },
   "file_extension": ".py",
   "mimetype": "text/x-python",
   "name": "python",
   "nbconvert_exporter": "python",
   "pygments_lexer": "ipython3",
   "version": "3.10.2"
  },
  "orig_nbformat": 4
 },
 "nbformat": 4,
 "nbformat_minor": 2
}
