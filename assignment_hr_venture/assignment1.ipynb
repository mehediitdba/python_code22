{
 "cells": [
  {
   "cell_type": "markdown",
   "metadata": {},
   "source": [
    "# Hi, I am Mehedi, This is my first Paython Assignment. "
   ]
  },
  {
   "cell_type": "code",
   "execution_count": 224,
   "metadata": {},
   "outputs": [
    {
     "name": "stdout",
     "output_type": "stream",
     "text": [
      "Welcome...!!! Have a Good Day\n",
      "Please Open the Door with Authentication..!!!, Your user name is \"mehedi\"\n",
      "Input the Door Username\n",
      "User Name is not match..!! Please try again\n",
      "Input the Door Username\n",
      "User Name is not match..!! Please try again\n",
      "Input the Door Username\n",
      "User Name is not match..!! Please try again\n",
      "Input the Door Username\n",
      "Input the Door Password\n",
      "Wrong Password, Try Again.!!\n",
      "Wrong Password, Try Again.!!\n",
      "Door is Opening\n"
     ]
    }
   ],
   "source": [
    "\n",
    "# Hi, I am Mehedi, This is my first Paython Assignment. \n",
    "#Declaration\n",
    "v_pass      = 'open@'\n",
    "v_seq_que   = 'black'\n",
    "v_wc        = 'Welcome...!!! Have a Good Day'\n",
    "v_auth      = 'Please Open the Door with Authentication..!!!, Your user name is \"mehedi\"'\n",
    "\n",
    "\n",
    "print(v_wc)\n",
    "print(v_auth)\n",
    "print('Input the Door Username')\n",
    "v_uname     = input('Input the Door Username : ')\n",
    "\n",
    "while v_uname != 'mehedi':\n",
    "    print('User Name is not match..!! Please try again')\n",
    "    print('Input the Door Username')\n",
    "    v_uname     = input('Input the Door Username : ')\n",
    "    continue\n",
    "\n",
    "print('Input the Door Password')\n",
    "v_upass     = input('Input the Door Password : ')\n",
    "\n",
    "for v_count in range(1,4):\n",
    "    if v_upass == v_pass:\n",
    "        print('Door is Opening')\n",
    "        break\n",
    "    elif v_count < 3:\n",
    "        print('Wrong Password, Try Again.!!')\n",
    "        v_count = v_count + 1\n",
    "        v_upass = input('Input the Door Password : ')\n",
    "    elif v_count == 3:\n",
    "        print('This User is Tamporary Block')\n",
    "        print('Input Your Security Question, What is the Feburite Color is? ')\n",
    "        v_upass = input('What is the Feburite Color is?')\n",
    "        if v_seq_que == v_upass:\n",
    "            print('Welldone..!! Security Question Match')\n",
    "            print('Do you want reset password? Press 1 for Yes/ 2 for No:')\n",
    "            v_rec = input('Press 1 for Yes/ 2 for No :')\n",
    "\n",
    "            if v_rec != '1':\n",
    "                print('Not a valid Input, You can try after 100 years later & Program is close..! bye, bye!')\n",
    "                break\n",
    "            else:\n",
    "                print('Input your New Pass')\n",
    "                v_new_pass = input('Input your New Pass :')\n",
    "                print('Input your Confirm Pass')\n",
    "                v_con_pass = input('Input your Confirm Pass :')\n",
    "                v_countss = 0\n",
    "\n",
    "               \n",
    "                if  v_new_pass == v_con_pass:\n",
    "                    print('Input the New Door Password Which is Set Now')\n",
    "                    v_upass     = input('Input the New Door Password Which is Set Now : ')     \n",
    "                    if v_upass == v_new_pass:\n",
    "                        print('Door is Opening')\n",
    "                        break\n",
    "                    else:\n",
    "                        print('Wrong Password')\n",
    "                        print('User is Parmanently Block, You can try after 100 years later & Program is close..! bye, bye!')\n",
    "                else:\n",
    "                    print('New Password and Confirm Pasword not Match')    \n",
    "                    print('User is Parmanently Block, You can try after 100 years later & Program is close..! bye, bye!')  \n",
    "\n",
    "        else:\n",
    "            print('Security Question is wrong..!!')\n",
    "            print('User is Parmanently Block, You can try after 100 years later & Program is close..! bye, bye!')"
   ]
  }
 ],
 "metadata": {
  "interpreter": {
   "hash": "63b2014fe923bc11fc1089a45e8d8d32d8530e11d1dfc98edf4ada9c05eba13b"
  },
  "kernelspec": {
   "display_name": "Python 3.10.2 64-bit",
   "language": "python",
   "name": "python3"
  },
  "language_info": {
   "codemirror_mode": {
    "name": "ipython",
    "version": 3
   },
   "file_extension": ".py",
   "mimetype": "text/x-python",
   "name": "python",
   "nbconvert_exporter": "python",
   "pygments_lexer": "ipython3",
   "version": "3.10.2"
  },
  "orig_nbformat": 4
 },
 "nbformat": 4,
 "nbformat_minor": 2
}
