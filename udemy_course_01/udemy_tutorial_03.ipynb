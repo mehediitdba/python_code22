{
 "cells": [
  {
   "cell_type": "markdown",
   "metadata": {},
   "source": [
    "# 03. Python Class And Objects"
   ]
  },
  {
   "cell_type": "code",
   "execution_count": 11,
   "metadata": {},
   "outputs": [],
   "source": [
    "class MyComplexNumber:\n",
    "    # Constructior Methods\n",
    "    def __init__ (self, real = 0, imag = 0):\n",
    "        print(\"MyComplexNumber Constructor is Executing...\")\n",
    "        self.real_part = real\n",
    "        self.imag_part = imag\n",
    "\n",
    "    def displayComplex(self):\n",
    "        print(\"{0}+{1}j\".format(self.real_part,self.imag_part))"
   ]
  },
  {
   "cell_type": "code",
   "execution_count": 12,
   "metadata": {},
   "outputs": [
    {
     "name": "stdout",
     "output_type": "stream",
     "text": [
      "MyComplexNumber Constructor is Executing...\n",
      "44+50j\n"
     ]
    }
   ],
   "source": [
    "#create a new object against MyComplexNumber class\n",
    "cmplx1 = MyComplexNumber(44,50)\n",
    "\n",
    "# Calling displayCompalex() function\n",
    "cmplx1.displayComplex()"
   ]
  },
  {
   "cell_type": "code",
   "execution_count": 6,
   "metadata": {},
   "outputs": [
    {
     "name": "stdout",
     "output_type": "stream",
     "text": [
      "MyComplexNumber Constructor is Executing...\n",
      "43 54 80\n"
     ]
    }
   ],
   "source": [
    "# Create another object against MyComplexNumber class\n",
    "# and create a new attribute 'new_attribute'\n",
    "cmplx2 = MyComplexNumber(43,54)\n",
    "cmplx2.new_attribute = 80\n",
    "\n",
    "print(cmplx2.real_part, cmplx2.imag_part, cmplx2.new_attribute)"
   ]
  },
  {
   "cell_type": "code",
   "execution_count": 13,
   "metadata": {},
   "outputs": [
    {
     "name": "stdout",
     "output_type": "stream",
     "text": [
      "<__main__.MyComplexNumber object at 0x000001F1F89E6D40>\n",
      "<__main__.MyComplexNumber object at 0x000001F1F8E767D0>\n"
     ]
    },
    {
     "ename": "NameError",
     "evalue": "name 'cmplx1' is not defined",
     "output_type": "error",
     "traceback": [
      "\u001b[1;31m---------------------------------------------------------------------------\u001b[0m",
      "\u001b[1;31mNameError\u001b[0m                                 Traceback (most recent call last)",
      "\u001b[1;32md:\\MY_DEVLOPMENT\\PYTHON\\HR_Venture\\pythone_code\\python_code22\\udemy_course_01\\udemy_tutorial_03.ipynb Cell 5'\u001b[0m in \u001b[0;36m<module>\u001b[1;34m\u001b[0m\n\u001b[0;32m      <a href='vscode-notebook-cell:/d%3A/MY_DEVLOPMENT/PYTHON/HR_Venture/pythone_code/python_code22/udemy_course_01/udemy_tutorial_03.ipynb#ch0000005?line=2'>3</a>\u001b[0m \u001b[39mdel\u001b[39;00m cmplx1\u001b[39m.\u001b[39mreal_part\n\u001b[0;32m      <a href='vscode-notebook-cell:/d%3A/MY_DEVLOPMENT/PYTHON/HR_Venture/pythone_code/python_code22/udemy_course_01/udemy_tutorial_03.ipynb#ch0000005?line=3'>4</a>\u001b[0m \u001b[39mdel\u001b[39;00m cmplx1\n\u001b[1;32m----> <a href='vscode-notebook-cell:/d%3A/MY_DEVLOPMENT/PYTHON/HR_Venture/pythone_code/python_code22/udemy_course_01/udemy_tutorial_03.ipynb#ch0000005?line=4'>5</a>\u001b[0m \u001b[39mprint\u001b[39m(cmplx1)\n",
      "\u001b[1;31mNameError\u001b[0m: name 'cmplx1' is not defined"
     ]
    }
   ],
   "source": [
    "print(cmplx2)\n",
    "print(cmplx1)\n",
    "del cmplx1.real_part\n",
    "del cmplx1\n",
    "print(cmplx1)"
   ]
  }
 ],
 "metadata": {
  "interpreter": {
   "hash": "63b2014fe923bc11fc1089a45e8d8d32d8530e11d1dfc98edf4ada9c05eba13b"
  },
  "kernelspec": {
   "display_name": "Python 3.10.2 64-bit",
   "language": "python",
   "name": "python3"
  },
  "language_info": {
   "codemirror_mode": {
    "name": "ipython",
    "version": 3
   },
   "file_extension": ".py",
   "mimetype": "text/x-python",
   "name": "python",
   "nbconvert_exporter": "python",
   "pygments_lexer": "ipython3",
   "version": "3.10.2"
  },
  "orig_nbformat": 4
 },
 "nbformat": 4,
 "nbformat_minor": 2
}
