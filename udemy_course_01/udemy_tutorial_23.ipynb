{
 "cells": [
  {
   "cell_type": "markdown",
   "metadata": {},
   "source": [
    "# 23-Python Functions"
   ]
  },
  {
   "cell_type": "code",
   "execution_count": 6,
   "metadata": {},
   "outputs": [
    {
     "name": "stdout",
     "output_type": "stream",
     "text": [
      "Hello! I love to code in Python.\n",
      "Hello! I love to code in Python.\n",
      "\n",
      "    This is \n",
      "    a multiline \n",
      "    text\n"
     ]
    }
   ],
   "source": [
    "def hello1(): # Function without a return statement\n",
    "    print(\"Hello! I love to code in Python.\")\n",
    "\n",
    "def hello2(): # Function with a return statement\n",
    "    '''\n",
    "    This is \n",
    "    a multiline \n",
    "    text'''\n",
    "    return \"Hello! I love to code in Python.\"\n",
    "    # Return commands returns back the control to the caller.\n",
    "    # Mainly used to return a value to the coller of the function.\n",
    "\n",
    "hello1()\n",
    "print(hello2())\n",
    "print(hello2.__doc__)\n"
   ]
  },
  {
   "cell_type": "code",
   "execution_count": 19,
   "metadata": {},
   "outputs": [
    {
     "name": "stdout",
     "output_type": "stream",
     "text": [
      "Main Menu...\n",
      "1 > Addition Operation...\n",
      "2 > Subtraction operation...\n",
      "3 > Multiplication Operation...\n",
      "4 > Division Operation ...\n",
      "Performing the addition operation...\n",
      "So result  300\n"
     ]
    }
   ],
   "source": [
    "def myAddition(x,y):\n",
    "    print(\"Performing the addition operation...\")\n",
    "    return(x+y)\n",
    "\n",
    "def mySubtraction(x,y):\n",
    "    print(\"Performing the subtraction operation...\")\n",
    "    return(x-y)\n",
    "def myMultiplication(x,y):\n",
    "    print(\"Performing the multiplication operation...\")\n",
    "    return(x*y)\n",
    "def myDivision(x,y):\n",
    "    print(\"Performing the division operaton...\")\n",
    "    return(x/y)\n",
    "def myMenu():\n",
    "    print(\"Main Menu...\")\n",
    "    print(\"1 > Addition Operation...\")\n",
    "    print(\"2 > Subtraction operation...\")\n",
    "    print(\"3 > Multiplication Operation...\")\n",
    "    print(\"4 > Division Operation ...\")\n",
    "    ch = int(input(\"Please enter your option number...\"))\n",
    "    return ch\n",
    "def calculation():\n",
    "    ch = myMenu()\n",
    "    num1 = int(input(\"Please enter the first number...\"))\n",
    "    num2 = int(input(\"Please enter second number...\"))\n",
    "    if ch == 1:\n",
    "        result = myAddition(num1, num2)\n",
    "    elif ch == 2:\n",
    "        result = mySubtraction(num1, num2)\n",
    "    elif ch == 3:\n",
    "        result = myMultiplication(num1, num2)\n",
    "    elif ch == 4:\n",
    "        result =  myDivision(num1, num2)\n",
    "    print(\"So result \", result)\n",
    "\n",
    "calculation()"
   ]
  }
 ],
 "metadata": {
  "interpreter": {
   "hash": "63b2014fe923bc11fc1089a45e8d8d32d8530e11d1dfc98edf4ada9c05eba13b"
  },
  "kernelspec": {
   "display_name": "Python 3.10.2 64-bit",
   "language": "python",
   "name": "python3"
  },
  "language_info": {
   "codemirror_mode": {
    "name": "ipython",
    "version": 3
   },
   "file_extension": ".py",
   "mimetype": "text/x-python",
   "name": "python",
   "nbconvert_exporter": "python",
   "pygments_lexer": "ipython3",
   "version": "3.10.2"
  },
  "orig_nbformat": 4
 },
 "nbformat": 4,
 "nbformat_minor": 2
}
