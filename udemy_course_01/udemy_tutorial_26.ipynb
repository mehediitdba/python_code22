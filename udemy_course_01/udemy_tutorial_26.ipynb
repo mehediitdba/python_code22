{
 "cells": [
  {
   "cell_type": "markdown",
   "metadata": {},
   "source": [
    "# 26-Python Errors And Exceptions"
   ]
  },
  {
   "cell_type": "code",
   "execution_count": 6,
   "metadata": {},
   "outputs": [
    {
     "name": "stdout",
     "output_type": "stream",
     "text": [
      "I am here...\n",
      "b =  100\n"
     ]
    }
   ],
   "source": [
    "try:\n",
    "    \"\"\"\n",
    "    The code which can give rise to an exception is written here.\n",
    "    \"\"\"\n",
    "    a = \"100\"\n",
    "    b = int(a)\n",
    "    print(\"I am here...\")\n",
    "    print(\"b = \", b)\n",
    "except:\n",
    "    print(\"Exception caught!\")"
   ]
  },
  {
   "cell_type": "code",
   "execution_count": 7,
   "metadata": {},
   "outputs": [
    {
     "name": "stdout",
     "output_type": "stream",
     "text": [
      "Division by zero is not possible\n"
     ]
    }
   ],
   "source": [
    "# Catching specific exception\n",
    "try:\n",
    "    a = 5\n",
    "    b = 0\n",
    "    c = a/b\n",
    "\n",
    "except ZeroDivisionError:\n",
    "    print(\"Division by zero is not possible\")"
   ]
  },
  {
   "cell_type": "code",
   "execution_count": 8,
   "metadata": {},
   "outputs": [
    {
     "name": "stdout",
     "output_type": "stream",
     "text": [
      "TypeError excetpin caught!\n"
     ]
    }
   ],
   "source": [
    "# Exceptions can be raised also\n",
    "try:\n",
    "    raise TypeError\n",
    "except TypeError:\n",
    "    print(\"TypeError excetpin caught!\")"
   ]
  },
  {
   "cell_type": "code",
   "execution_count": 9,
   "metadata": {},
   "outputs": [
    {
     "name": "stdout",
     "output_type": "stream",
     "text": [
      "In try block\n",
      "In the finally block\n"
     ]
    }
   ],
   "source": [
    "# try .. finally\n",
    "try:\n",
    "    print(\"In try block\")\n",
    "    # raise TypeError\n",
    "except:\n",
    "    print(\"In except block\")\n",
    "finally:\n",
    "    print(\"In the finally block\")"
   ]
  }
 ],
 "metadata": {
  "interpreter": {
   "hash": "63b2014fe923bc11fc1089a45e8d8d32d8530e11d1dfc98edf4ada9c05eba13b"
  },
  "kernelspec": {
   "display_name": "Python 3.10.2 64-bit",
   "language": "python",
   "name": "python3"
  },
  "language_info": {
   "codemirror_mode": {
    "name": "ipython",
    "version": 3
   },
   "file_extension": ".py",
   "mimetype": "text/x-python",
   "name": "python",
   "nbconvert_exporter": "python",
   "pygments_lexer": "ipython3",
   "version": "3.10.2"
  },
  "orig_nbformat": 4
 },
 "nbformat": 4,
 "nbformat_minor": 2
}
