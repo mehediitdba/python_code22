{
 "cells": [
  {
   "cell_type": "markdown",
   "metadata": {},
   "source": [
    "# 20-Python Inheritance"
   ]
  },
  {
   "cell_type": "code",
   "execution_count": 1,
   "metadata": {},
   "outputs": [],
   "source": [
    "# Creating Class and Object in Python\n",
    "\n",
    "class myBird:\n",
    "\n",
    "    def __init__(self):\n",
    "        print(\"myBird class constructor is executing..\")\n",
    "\n",
    "    def whatType(self):\n",
    "        print(\"I am a Bird...\")\n",
    "\n",
    "    def canSwim(self):\n",
    "        print(\"I can swim..\")"
   ]
  },
  {
   "cell_type": "code",
   "execution_count": 2,
   "metadata": {},
   "outputs": [],
   "source": [
    "# myPenguin class inheriting the attributes from the myBird class\n",
    "\n",
    "class myPenguin(myBird):\n",
    "\n",
    "    def __init__(self):\n",
    "        # call supper() function\n",
    "        super().__init__()\n",
    "        print(\"myPenguin class constructor is executing..\")\n",
    "\n",
    "    def whoisThis(self):\n",
    "        print(\"I am Penguin...\")\n",
    "\n",
    "    def canRun(self):\n",
    "        print(\"I can run faster...\")"
   ]
  },
  {
   "cell_type": "code",
   "execution_count": 3,
   "metadata": {},
   "outputs": [
    {
     "name": "stdout",
     "output_type": "stream",
     "text": [
      "myBird class constructor is executing..\n",
      "myPenguin class constructor is executing..\n",
      "I am a Bird...\n",
      "I am Penguin...\n",
      "I can swim..\n",
      "I can run faster...\n"
     ]
    }
   ],
   "source": [
    "# Accessing the child class's attributes (Inheritance)\n",
    "pg1 = myPenguin()\n",
    "pg1.whatType()\n",
    "pg1.whoisThis()\n",
    "pg1.canSwim()\n",
    "pg1.canRun()"
   ]
  },
  {
   "cell_type": "code",
   "execution_count": 9,
   "metadata": {},
   "outputs": [],
   "source": [
    "# Polymorphism\n",
    "class MyParrot:\n",
    "\n",
    "    def canFly(self):\n",
    "        print(\"Parrot cal fly...\")\n",
    "\n",
    "    def canSwim(self):\n",
    "        print(\"Penguin can swim...\")\n"
   ]
  },
  {
   "cell_type": "code",
   "execution_count": 11,
   "metadata": {},
   "outputs": [],
   "source": [
    "class MyPenguin:\n",
    "\n",
    "    def canFly(self):\n",
    "        print(\"Penguin can't fly...\")\n",
    "\n",
    "    def canSwim(self):\n",
    "        print(\"Penguin can swim...\")\n",
    "        "
   ]
  },
  {
   "cell_type": "code",
   "execution_count": 7,
   "metadata": {},
   "outputs": [],
   "source": [
    "# common interface\n",
    "def flying_bird_test(bird):\n",
    "    bird.canFly()\n",
    "    bird.canSwim()\n",
    "    "
   ]
  },
  {
   "cell_type": "code",
   "execution_count": 12,
   "metadata": {},
   "outputs": [
    {
     "name": "stdout",
     "output_type": "stream",
     "text": [
      "Parrot cal fly...\n",
      "Penguin can swim...\n",
      "\n",
      "Penguin can't fly...\n",
      "Penguin can swim...\n"
     ]
    }
   ],
   "source": [
    "# instantiate object\n",
    "bird_parrot = MyParrot()\n",
    "bird_penguin = MyPenguin()\n",
    "\n",
    "# passing the object\n",
    "flying_bird_test(bird_parrot)\n",
    "print()\n",
    "flying_bird_test(bird_penguin)"
   ]
  }
 ],
 "metadata": {
  "interpreter": {
   "hash": "63b2014fe923bc11fc1089a45e8d8d32d8530e11d1dfc98edf4ada9c05eba13b"
  },
  "kernelspec": {
   "display_name": "Python 3.10.2 64-bit",
   "language": "python",
   "name": "python3"
  },
  "language_info": {
   "codemirror_mode": {
    "name": "ipython",
    "version": 3
   },
   "file_extension": ".py",
   "mimetype": "text/x-python",
   "name": "python",
   "nbconvert_exporter": "python",
   "pygments_lexer": "ipython3",
   "version": "3.10.2"
  },
  "orig_nbformat": 4
 },
 "nbformat": 4,
 "nbformat_minor": 2
}
