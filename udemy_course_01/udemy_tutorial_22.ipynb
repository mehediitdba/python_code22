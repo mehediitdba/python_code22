{
 "cells": [
  {
   "cell_type": "markdown",
   "metadata": {},
   "source": [
    "#  22-Python Function Arguments"
   ]
  },
  {
   "cell_type": "code",
   "execution_count": 5,
   "metadata": {},
   "outputs": [
    {
     "name": "stdout",
     "output_type": "stream",
     "text": [
      "Max number between 10 and 20 is  20\n"
     ]
    }
   ],
   "source": [
    "# Python default Arguments\n",
    "# Python keyword Argument\n",
    "# Python Arbitrary Argument\n",
    "\n",
    "def findMax(a, b): # Function taking arguments and returning a value\n",
    "    if a > b:\n",
    "        return a\n",
    "    else:\n",
    "        return b\n",
    "print(\"Max number between 10 and 20 is \", findMax(10,20))"
   ]
  },
  {
   "cell_type": "code",
   "execution_count": 8,
   "metadata": {},
   "outputs": [
    {
     "name": "stdout",
     "output_type": "stream",
     "text": [
      "hello  Agnibha , have a nice day.\n",
      "hello  Agnibha , how are you?\n"
     ]
    }
   ],
   "source": [
    "def hello(name, msg =\", how are you?\"): # function with default parameter\n",
    "    print(\"hello \", name, msg)\n",
    "\n",
    "hello(\"Agnibha\", \", have a nice day.\")\n",
    "hello(\"Agnibha\")"
   ]
  },
  {
   "cell_type": "code",
   "execution_count": 9,
   "metadata": {},
   "outputs": [
    {
     "name": "stdout",
     "output_type": "stream",
     "text": [
      "Sum of all the integers between 1-5 is  15\n"
     ]
    }
   ],
   "source": [
    "def sumAll(*args): #Function with abritrary arguments\n",
    "    sum = 0\n",
    "    for i in args:\n",
    "        sum += i\n",
    "    return sum\n",
    "\n",
    "print(\"Sum of all the integers between 1-5 is \", sumAll(1,2,3,4,5))"
   ]
  },
  {
   "cell_type": "code",
   "execution_count": 11,
   "metadata": {},
   "outputs": [
    {
     "name": "stdout",
     "output_type": "stream",
     "text": [
      "a = 10, b = 20, c = 30...\n"
     ]
    }
   ],
   "source": [
    "def defaultArg(a,b,c):\n",
    "    print(\"a = {}, b = {}, c = {}...\".format(a,b,c))\n",
    "\n",
    "defaultArg(10,20,30)"
   ]
  },
  {
   "cell_type": "code",
   "execution_count": 12,
   "metadata": {},
   "outputs": [
    {
     "name": "stdout",
     "output_type": "stream",
     "text": [
      "a = 10, b = 20, c = 300...\n"
     ]
    }
   ],
   "source": [
    "def defaultArg(a,b,c=300):\n",
    "    print(\"a = {}, b = {}, c = {}...\".format(a,b,c))\n",
    "\n",
    "defaultArg(10,20)"
   ]
  },
  {
   "cell_type": "code",
   "execution_count": 16,
   "metadata": {},
   "outputs": [
    {
     "name": "stdout",
     "output_type": "stream",
     "text": [
      "a = 90, b = 200, c = 300...\n"
     ]
    }
   ],
   "source": [
    "def defaultArg(a = 90,b=200,c=300):\n",
    "    print(\"a = {}, b = {}, c = {}...\".format(a,b,c))\n",
    "\n",
    "defaultArg()"
   ]
  },
  {
   "cell_type": "code",
   "execution_count": 17,
   "metadata": {},
   "outputs": [
    {
     "name": "stdout",
     "output_type": "stream",
     "text": [
      "a = 111, b = 222, c = 333...\n"
     ]
    }
   ],
   "source": [
    "def defaultArg(a = 90,b=200,c=300):\n",
    "    print(\"a = {}, b = {}, c = {}...\".format(a,b,c))\n",
    "\n",
    "defaultArg(b=222,c=333,a=111)"
   ]
  },
  {
   "cell_type": "code",
   "execution_count": 18,
   "metadata": {},
   "outputs": [
    {
     "name": "stdout",
     "output_type": "stream",
     "text": [
      "a = 111, b = 222, c = 300...\n"
     ]
    }
   ],
   "source": [
    "def defaultArg(a = 90,b=200,c=300):\n",
    "    print(\"a = {}, b = {}, c = {}...\".format(a,b,c))\n",
    "\n",
    "defaultArg(b=222,a=111)"
   ]
  }
 ],
 "metadata": {
  "interpreter": {
   "hash": "63b2014fe923bc11fc1089a45e8d8d32d8530e11d1dfc98edf4ada9c05eba13b"
  },
  "kernelspec": {
   "display_name": "Python 3.10.2 64-bit",
   "language": "python",
   "name": "python3"
  },
  "language_info": {
   "codemirror_mode": {
    "name": "ipython",
    "version": 3
   },
   "file_extension": ".py",
   "mimetype": "text/x-python",
   "name": "python",
   "nbconvert_exporter": "python",
   "pygments_lexer": "ipython3",
   "version": "3.10.2"
  },
  "orig_nbformat": 4
 },
 "nbformat": 4,
 "nbformat_minor": 2
}
