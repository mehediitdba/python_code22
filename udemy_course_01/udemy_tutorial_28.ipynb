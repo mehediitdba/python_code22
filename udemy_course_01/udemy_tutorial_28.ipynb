{
 "cells": [
  {
   "cell_type": "markdown",
   "metadata": {},
   "source": [
    "# 28-Python User Defined Exception"
   ]
  },
  {
   "cell_type": "code",
   "execution_count": 8,
   "metadata": {},
   "outputs": [
    {
     "name": "stdout",
     "output_type": "stream",
     "text": [
      "Age is 21\n",
      "Age is getter than or equal to 18\n",
      "End of the program\n"
     ]
    }
   ],
   "source": [
    "class VotersEllligibility(Exception):\n",
    "    def __init__(self):\n",
    "        super()\n",
    "\n",
    "try:\n",
    "    age = 21\n",
    "    print(\"Age is \"+str(age))\n",
    "    if age < 18:\n",
    "        raise VotersEllligibility\n",
    "except VotersEllligibility:\n",
    "    print(\"Age is less the 18\")\n",
    "else:\n",
    "    print(\"Age is getter than or equal to 18\")\n",
    "finally:\n",
    "    print(\"End of the program\")"
   ]
  }
 ],
 "metadata": {
  "interpreter": {
   "hash": "63b2014fe923bc11fc1089a45e8d8d32d8530e11d1dfc98edf4ada9c05eba13b"
  },
  "kernelspec": {
   "display_name": "Python 3.10.2 64-bit",
   "language": "python",
   "name": "python3"
  },
  "language_info": {
   "codemirror_mode": {
    "name": "ipython",
    "version": 3
   },
   "file_extension": ".py",
   "mimetype": "text/x-python",
   "name": "python",
   "nbconvert_exporter": "python",
   "pygments_lexer": "ipython3",
   "version": "3.10.2"
  },
  "orig_nbformat": 4
 },
 "nbformat": 4,
 "nbformat_minor": 2
}
