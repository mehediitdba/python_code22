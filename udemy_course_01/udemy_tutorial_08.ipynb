{
 "cells": [
  {
   "cell_type": "markdown",
   "metadata": {},
   "source": [
    "# 08 -Python Sets"
   ]
  },
  {
   "cell_type": "code",
   "execution_count": null,
   "metadata": {},
   "outputs": [],
   "source": [
    "# Set"
   ]
  },
  {
   "cell_type": "code",
   "execution_count": 5,
   "metadata": {},
   "outputs": [
    {
     "name": "stdout",
     "output_type": "stream",
     "text": [
      "{33, 66, 22, 55, 11, 44}\n",
      "{(21, 2, 1994), 101, 'Agnibha'}\n",
      "{33, 66, 22, 55, 11, 44}\n"
     ]
    }
   ],
   "source": [
    "# Creating sets\n",
    "# set of integers\n",
    "my_set1 = {11, 33, 66, 55, 44, 22}\n",
    "print(my_set1)\n",
    "\n",
    "# set of mixed datatypes\n",
    "my_set2 = {101, \"Agnibha\", (21, 2, 1994)}\n",
    "print(my_set2)\n",
    "\n",
    "# duplicate values are not allowed\n",
    "my_set3 =  {11, 33, 66, 55, 44, 22}\n",
    "print(my_set3)"
   ]
  },
  {
   "cell_type": "code",
   "execution_count": 7,
   "metadata": {},
   "outputs": [
    {
     "name": "stdout",
     "output_type": "stream",
     "text": [
      "{1, 2, 3}\n",
      "<class 'set'>\n",
      "[33, 11, 44, 22]\n",
      "<class 'list'>\n"
     ]
    }
   ],
   "source": [
    "# set cannot have mutable items\n",
    "# my_set4 = {1,2,[3,4]}\n",
    "\n",
    "# we can make set from a list\n",
    "my_set5 = set([1,2,3,2])\n",
    "print(my_set5)\n",
    "print(type(my_set5))\n",
    "\n",
    "\n",
    "# we can make list from a set\n",
    "my_list1 = list({11,22,33,44})\n",
    "print(my_list1)\n",
    "print(type(my_list1))"
   ]
  },
  {
   "cell_type": "code",
   "execution_count": 12,
   "metadata": {},
   "outputs": [
    {
     "name": "stdout",
     "output_type": "stream",
     "text": [
      "{33, 66, 55, 11, 44}\n",
      "{33, 66, 55, 11, 44, 77}\n",
      "{66, 11, 77, 22, 88, 33, 99, 44, 55}\n",
      "{66, 11, 77, 22, 88, 33, 99, 100, 101, 102, 103, 104, 44, 55}\n"
     ]
    }
   ],
   "source": [
    "# operations on sets\n",
    "my_set1 = {11, 33, 44, 66, 55}\n",
    "print(my_set1)\n",
    "\n",
    "# 'set' object does not support indexing\n",
    "\n",
    "# my_set1[0]\n",
    "\n",
    "# add on element\n",
    "\n",
    "my_set1.add(77)\n",
    "\n",
    "print(my_set1)\n",
    "\n",
    "# add multiple element\n",
    "my_set1.update([88, 99, 22])\n",
    "print(my_set1)\n",
    "\n",
    "# add list and set \n",
    "my_set1.update([100, 101], {102, 103, 104})\n",
    "print(my_set1)\n"
   ]
  },
  {
   "cell_type": "code",
   "execution_count": 15,
   "metadata": {},
   "outputs": [
    {
     "name": "stdout",
     "output_type": "stream",
     "text": [
      "{33, 66, 55, 11, 44}\n",
      "{33, 66, 55, 11, 44}\n",
      "{33, 66, 55, 11, 44}\n",
      "{33, 66, 55, 11}\n",
      "{33, 66, 11}\n"
     ]
    }
   ],
   "source": [
    "# remove and discard\n",
    "#  initialize my_set\n",
    "my_set1 = {11, 33, 44, 55, 66}\n",
    "print(my_set1)\n",
    "\n",
    "# discard on element which is not present, no error\n",
    "my_set1.discard(4)\n",
    "print(my_set1)\n",
    "\n",
    "# remove on element which is not present, error raised\n",
    "# my_set.remove(6)\n",
    "print(my_set1)\n",
    "\n",
    "# discard on element\n",
    "my_set1.discard(44)\n",
    "print(my_set1)\n",
    "my_set1.remove(55)\n",
    "print(my_set1)"
   ]
  },
  {
   "cell_type": "code",
   "execution_count": 19,
   "metadata": {},
   "outputs": [
    {
     "name": "stdout",
     "output_type": "stream",
     "text": [
      "{33, 66, 55, 11, 44}\n",
      "33\n",
      "66\n",
      "{55, 11, 44}\n",
      "set()\n"
     ]
    }
   ],
   "source": [
    "# using pop()\n",
    "# initialize my_set\n",
    "my_set1 = {11, 33, 44, 55, 66}\n",
    "print(my_set1)\n",
    "\n",
    "# pop on element\n",
    "print(my_set1.pop())\n",
    "\n",
    "# pop another element\n",
    "print(my_set1.pop())\n",
    "print(my_set1)\n",
    "\n",
    "# clear my_set\n",
    "my_set1.clear()\n",
    "print(my_set1)"
   ]
  },
  {
   "cell_type": "code",
   "execution_count": 25,
   "metadata": {},
   "outputs": [
    {
     "name": "stdout",
     "output_type": "stream",
     "text": [
      "{0, 1, 2, 3, 4, 5}\n",
      "{4, 5, 6, 7, 8, 9}\n",
      "{0, 1, 2, 3, 4, 5, 6, 7, 8, 9}\n",
      "{0, 1, 2, 3, 4, 5, 6, 7, 8, 9}\n",
      "{0, 1, 2, 3, 4, 5, 6, 7, 8, 9}\n",
      "{0, 1, 2, 3, 4, 5, 6, 7, 8, 9}\n"
     ]
    }
   ],
   "source": [
    "# set operation - union\n",
    "my_set1 = {0, 1, 2, 3, 4, 5}\n",
    "my_set2 = {4, 5, 6, 7, 8, 9}\n",
    "print(my_set1)\n",
    "print(my_set2)\n",
    "\n",
    "\n",
    "# use | operatio for union\n",
    "print(my_set1 | my_set2)\n",
    "print(my_set2 | my_set1)\n",
    "print(my_set1.union(my_set2))\n",
    "print(my_set2.union(my_set1))"
   ]
  },
  {
   "cell_type": "code",
   "execution_count": 27,
   "metadata": {},
   "outputs": [
    {
     "name": "stdout",
     "output_type": "stream",
     "text": [
      "{0, 1, 2, 3, 4, 5}\n",
      "{4, 5, 6, 7, 8, 9}\n",
      "{4, 5}\n",
      "{4, 5}\n",
      "{4, 5}\n",
      "{4, 5}\n"
     ]
    }
   ],
   "source": [
    "# set operations - intersection\n",
    "my_set1 = {0, 1, 2, 3, 4, 5}\n",
    "my_set2 = {4, 5, 6, 7, 8, 9}\n",
    "print(my_set1)\n",
    "print(my_set2)\n",
    "\n",
    "# use & operator for initersection\n",
    "print(my_set1 & my_set2)\n",
    "print(my_set2 & my_set1)\n",
    "print(my_set1.intersection(my_set2))\n",
    "print(my_set2.intersection(my_set1))"
   ]
  },
  {
   "cell_type": "code",
   "execution_count": 29,
   "metadata": {},
   "outputs": [
    {
     "name": "stdout",
     "output_type": "stream",
     "text": [
      "{0, 1, 2, 3, 4, 5}\n",
      "{4, 5, 6, 7, 8, 9}\n",
      "{0, 1, 2, 3}\n",
      "{8, 9, 6, 7}\n",
      "{0, 1, 2, 3}\n",
      "{8, 9, 6, 7}\n"
     ]
    }
   ],
   "source": [
    "# set operations - set difference\n",
    "my_set1 = {0, 1, 2, 3, 4, 5}\n",
    "my_set2 = {4, 5, 6, 7, 8, 9}\n",
    "print(my_set1)\n",
    "print(my_set2)\n",
    "\n",
    "# use - operator for set difference\n",
    "print(my_set1 - my_set2)\n",
    "print(my_set2 - my_set1)\n",
    "print(my_set1.difference(my_set2))\n",
    "print(my_set2.difference(my_set1))"
   ]
  },
  {
   "cell_type": "code",
   "execution_count": 30,
   "metadata": {},
   "outputs": [
    {
     "name": "stdout",
     "output_type": "stream",
     "text": [
      "{0, 1, 2, 3, 4, 5}\n",
      "{4, 5, 6, 7, 8, 9}\n",
      "{0, 1, 2, 3, 6, 7, 8, 9}\n",
      "{0, 1, 2, 3, 6, 7, 8, 9}\n",
      "{0, 1, 2, 3, 6, 7, 8, 9}\n",
      "{0, 1, 2, 3, 6, 7, 8, 9}\n"
     ]
    }
   ],
   "source": [
    "# set operations - symmetric difference\n",
    "my_set1 = {0, 1, 2, 3, 4, 5}\n",
    "my_set2 = {4, 5, 6, 7, 8, 9}\n",
    "print(my_set1)\n",
    "print(my_set2)\n",
    "\n",
    "# use ^ operator for symmetric difference\n",
    "print(my_set1 ^ my_set2)\n",
    "print(my_set2 ^ my_set1)\n",
    "print(my_set1.symmetric_difference(my_set2))\n",
    "print(my_set2.symmetric_difference(my_set1))"
   ]
  },
  {
   "cell_type": "code",
   "execution_count": 32,
   "metadata": {},
   "outputs": [
    {
     "name": "stdout",
     "output_type": "stream",
     "text": [
      "True\n",
      "False\n",
      "False\n",
      "True\n"
     ]
    }
   ],
   "source": [
    "# set membership\n",
    "my_set1 = {0, 1, 2, 3, 4, 5}\n",
    "print(2 in my_set1)\n",
    "print(6 in my_set1)\n",
    "print(2 not in my_set1)\n",
    "print(6 not in my_set1)"
   ]
  },
  {
   "cell_type": "code",
   "execution_count": 33,
   "metadata": {},
   "outputs": [
    {
     "name": "stdout",
     "output_type": "stream",
     "text": [
      "m\n",
      "o\n",
      "e\n",
      "c\n",
      "l\n",
      "w\n"
     ]
    }
   ],
   "source": [
    "# iterating through a set\n",
    "for letter in set(\"welcome\"):\n",
    "    print(letter)"
   ]
  },
  {
   "cell_type": "code",
   "execution_count": 34,
   "metadata": {},
   "outputs": [
    {
     "name": "stdout",
     "output_type": "stream",
     "text": [
      "6\n",
      "5\n",
      "0\n",
      "[0, 1, 2, 3, 4, 5]\n"
     ]
    }
   ],
   "source": [
    "# built-in function with set\n",
    "my_set1 = {0, 1, 2, 3, 4, 5}\n",
    "print(len(my_set1))\n",
    "print(max(my_set1))\n",
    "print(min(my_set1))\n",
    "print(sorted(my_set1))\n"
   ]
  },
  {
   "cell_type": "code",
   "execution_count": 36,
   "metadata": {},
   "outputs": [
    {
     "name": "stdout",
     "output_type": "stream",
     "text": [
      "frozenset({1, 2, 3, 4})\n",
      "frozenset({3, 4, 5, 6})\n",
      "frozenset({1, 2})\n",
      "frozenset({1, 2, 3, 4, 5, 6})\n",
      "frozenset({3, 4})\n",
      "frozenset({1, 2, 5, 6})\n"
     ]
    }
   ],
   "source": [
    "# python frozenset\n",
    "# Frozenset is a new class that has the characteristics\n",
    "# of a set, but its elements can not be changed once assigned.\n",
    "# while tuples are immutable lists, frozensets are immutable sets.\n",
    "# initialize A and B\n",
    "my_set1 = frozenset([1,2,3,4])\n",
    "my_set2 = frozenset([3, 4, 5, 6])\n",
    "print(my_set1)\n",
    "print(my_set2)\n",
    "print(my_set1.difference(my_set2))\n",
    "print(my_set1.union(my_set2))\n",
    "print(my_set1.intersection(my_set2))\n",
    "print(my_set1.symmetric_difference(my_set2))\n",
    "# myset.add(10)"
   ]
  }
 ],
 "metadata": {
  "interpreter": {
   "hash": "63b2014fe923bc11fc1089a45e8d8d32d8530e11d1dfc98edf4ada9c05eba13b"
  },
  "kernelspec": {
   "display_name": "Python 3.10.2 64-bit",
   "language": "python",
   "name": "python3"
  },
  "language_info": {
   "codemirror_mode": {
    "name": "ipython",
    "version": 3
   },
   "file_extension": ".py",
   "mimetype": "text/x-python",
   "name": "python",
   "nbconvert_exporter": "python",
   "pygments_lexer": "ipython3",
   "version": "3.10.2"
  },
  "orig_nbformat": 4
 },
 "nbformat": 4,
 "nbformat_minor": 2
}
