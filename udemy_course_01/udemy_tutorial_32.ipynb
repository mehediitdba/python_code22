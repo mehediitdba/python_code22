{
 "cells": [
  {
   "cell_type": "markdown",
   "metadata": {},
   "source": [
    "# 32- Python Statements And Comments"
   ]
  },
  {
   "cell_type": "code",
   "execution_count": 1,
   "metadata": {},
   "outputs": [
    {
     "data": {
      "text/plain": [
       "'\\nMulti-line comments\\ncan also be written like this.\\n'"
      ]
     },
     "execution_count": 1,
     "metadata": {},
     "output_type": "execute_result"
    }
   ],
   "source": [
    "#  This is a comment\n",
    "\n",
    "# This is a Long comment\n",
    "#  and multi-line comments\n",
    "# can be written Like this\n",
    "\n",
    "'''\n",
    "Multi-line comments\n",
    "can also be written like this.\n",
    "'''\n",
    "\n"
   ]
  },
  {
   "cell_type": "code",
   "execution_count": 2,
   "metadata": {},
   "outputs": [],
   "source": [
    "# Statement - a assignment Statement\n",
    "a = 1\n"
   ]
  },
  {
   "cell_type": "code",
   "execution_count": 6,
   "metadata": {},
   "outputs": [
    {
     "name": "stdout",
     "output_type": "stream",
     "text": [
      "21\n",
      "21\n"
     ]
    }
   ],
   "source": [
    "# Multiline Statument\n",
    "# Explicit Line continuation - '\\'\n",
    "b = 1 + 2 + 3+ \\\n",
    "    4 + 5 + 6\n",
    "print(b)\n",
    "# Implicit Line continuation within brackets\n",
    "c=(1+2+3+\n",
    "    4+5+6)\n",
    "print(c)"
   ]
  },
  {
   "cell_type": "code",
   "execution_count": 7,
   "metadata": {},
   "outputs": [],
   "source": [
    "# Multiple statement in one line using ';'\n",
    "d = 1; e = 3; f = 0\n"
   ]
  },
  {
   "cell_type": "code",
   "execution_count": 8,
   "metadata": {},
   "outputs": [
    {
     "name": "stdout",
     "output_type": "stream",
     "text": [
      "1\n",
      "2\n",
      "3\n",
      "4\n",
      "5\n",
      "End of the program...\n"
     ]
    }
   ],
   "source": [
    "# Code block (body of a function, loop etc.) starts with indentation\n",
    "# and ends with the first unindented line\n",
    "for i in range(1,10):\n",
    "    print(i)\n",
    "    if i == 5:\n",
    "        break\n",
    "print(\"End of the program...\")"
   ]
  }
 ],
 "metadata": {
  "interpreter": {
   "hash": "63b2014fe923bc11fc1089a45e8d8d32d8530e11d1dfc98edf4ada9c05eba13b"
  },
  "kernelspec": {
   "display_name": "Python 3.10.2 64-bit",
   "language": "python",
   "name": "python3"
  },
  "language_info": {
   "codemirror_mode": {
    "name": "ipython",
    "version": 3
   },
   "file_extension": ".py",
   "mimetype": "text/x-python",
   "name": "python",
   "nbconvert_exporter": "python",
   "pygments_lexer": "ipython3",
   "version": "3.10.2"
  },
  "orig_nbformat": 4
 },
 "nbformat": 4,
 "nbformat_minor": 2
}
