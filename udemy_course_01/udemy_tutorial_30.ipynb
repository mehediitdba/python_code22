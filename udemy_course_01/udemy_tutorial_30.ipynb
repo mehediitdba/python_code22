{
 "cells": [
  {
   "cell_type": "markdown",
   "metadata": {},
   "source": [
    "# 30-Python Nested Dictionary Implementation"
   ]
  },
  {
   "cell_type": "code",
   "execution_count": 6,
   "metadata": {},
   "outputs": [
    {
     "name": "stdout",
     "output_type": "stream",
     "text": [
      "{1: {'name': 'John', 'age': '27', 'sex': 'Male'}, 2: {'name': 'Kamal', 'age': '20', 'sex': 'Femal'}}\n",
      "John\n",
      "27\n",
      "Male\n"
     ]
    }
   ],
   "source": [
    "#  Declaring and defining a nested dictionary\n",
    "people = {1:{'name':'John', 'age':'27', 'sex':'Male'},\n",
    "          2:{'name':'Kamal', 'age':'20', 'sex':'Femal'}}\n",
    "print(people)\n",
    "\n",
    "#Accessing elements of the dictionary\n",
    "\n",
    "print(people[1]['name'])\n",
    "print(people[1]['age'])\n",
    "print(people[1]['sex'])\n"
   ]
  },
  {
   "cell_type": "code",
   "execution_count": 10,
   "metadata": {},
   "outputs": [
    {
     "name": "stdout",
     "output_type": "stream",
     "text": [
      "{1: {'name': 'John', 'age': '27', 'sex': 'Male'}, 2: {'name': 'Kamal', 'age': '20', 'sex': 'Femal'}, 3: {'name': 'Luna', 'age': '24', 'sex': 'Female', 'married': 'No'}}\n"
     ]
    }
   ],
   "source": [
    "people[3] = {}\n",
    "#Adding elements to a dictionary\n",
    "people[3]['name'] = 'Luna'\n",
    "people[3]['age'] = '24'\n",
    "people[3]['sex'] = 'Female'\n",
    "people[3]['married'] = 'No'\n",
    "\n",
    "print(people)"
   ]
  },
  {
   "cell_type": "code",
   "execution_count": 13,
   "metadata": {},
   "outputs": [
    {
     "name": "stdout",
     "output_type": "stream",
     "text": [
      "{'name': 'Peter', 'age': '29', 'sex': 'Male', 'married': 'Yex'}\n",
      "{1: {'name': 'John', 'age': '27', 'sex': 'Male'}, 2: {'name': 'Kamal', 'age': '20', 'sex': 'Femal'}, 3: {'name': 'Luna', 'age': '24', 'sex': 'Female', 'married': 'No'}, 4: {'name': 'Peter', 'age': '29', 'sex': 'Male', 'married': 'Yex'}}\n"
     ]
    }
   ],
   "source": [
    "# Adding dictionary to a nested dictionary\n",
    "people[4]={'name':'Peter', 'age':'29', 'sex':'Male', 'married':'Yex'}\n",
    "print(people[4])\n",
    "\n",
    "print(people)"
   ]
  },
  {
   "cell_type": "code",
   "execution_count": 17,
   "metadata": {},
   "outputs": [
    {
     "name": "stdout",
     "output_type": "stream",
     "text": [
      "{'name': 'Luna', 'age': '24', 'sex': 'Female'}\n",
      "{'name': 'Peter', 'age': '29', 'sex': 'Male'}\n"
     ]
    },
    {
     "ename": "KeyError",
     "evalue": "'married'",
     "output_type": "error",
     "traceback": [
      "\u001b[1;31m---------------------------------------------------------------------------\u001b[0m",
      "\u001b[1;31mKeyError\u001b[0m                                  Traceback (most recent call last)",
      "\u001b[1;32md:\\MY_DEVLOPMENT\\PYTHON\\HR_Venture\\pythone_code\\python_code22\\udemy_course_01\\udemy_tutorial_30.ipynb Cell 5'\u001b[0m in \u001b[0;36m<module>\u001b[1;34m\u001b[0m\n\u001b[0;32m      <a href='vscode-notebook-cell:/d%3A/MY_DEVLOPMENT/PYTHON/HR_Venture/pythone_code/python_code22/udemy_course_01/udemy_tutorial_30.ipynb#ch0000005?line=1'>2</a>\u001b[0m \u001b[39mprint\u001b[39m(people[\u001b[39m3\u001b[39m])\n\u001b[0;32m      <a href='vscode-notebook-cell:/d%3A/MY_DEVLOPMENT/PYTHON/HR_Venture/pythone_code/python_code22/udemy_course_01/udemy_tutorial_30.ipynb#ch0000005?line=2'>3</a>\u001b[0m \u001b[39mprint\u001b[39m(people[\u001b[39m4\u001b[39m])\n\u001b[1;32m----> <a href='vscode-notebook-cell:/d%3A/MY_DEVLOPMENT/PYTHON/HR_Venture/pythone_code/python_code22/udemy_course_01/udemy_tutorial_30.ipynb#ch0000005?line=4'>5</a>\u001b[0m \u001b[39mdel\u001b[39;00m people[\u001b[39m3\u001b[39m][\u001b[39m'\u001b[39m\u001b[39mmarried\u001b[39m\u001b[39m'\u001b[39m]\n\u001b[0;32m      <a href='vscode-notebook-cell:/d%3A/MY_DEVLOPMENT/PYTHON/HR_Venture/pythone_code/python_code22/udemy_course_01/udemy_tutorial_30.ipynb#ch0000005?line=5'>6</a>\u001b[0m \u001b[39mdel\u001b[39;00m people[\u001b[39m4\u001b[39m][\u001b[39m'\u001b[39m\u001b[39mmarried\u001b[39m\u001b[39m'\u001b[39m]\n\u001b[0;32m      <a href='vscode-notebook-cell:/d%3A/MY_DEVLOPMENT/PYTHON/HR_Venture/pythone_code/python_code22/udemy_course_01/udemy_tutorial_30.ipynb#ch0000005?line=7'>8</a>\u001b[0m \u001b[39mprint\u001b[39m(people[\u001b[39m3\u001b[39m])\n",
      "\u001b[1;31mKeyError\u001b[0m: 'married'"
     ]
    }
   ],
   "source": [
    "# Deleting elements from a dictionary\n",
    "print(people[3])\n",
    "print(people[4])\n",
    "\n",
    "del people[3]['married']\n",
    "del people[4]['married']\n",
    "\n",
    "print(people[3])\n",
    "print(people[4])"
   ]
  },
  {
   "cell_type": "code",
   "execution_count": 20,
   "metadata": {},
   "outputs": [
    {
     "name": "stdout",
     "output_type": "stream",
     "text": [
      "{1: {'name': 'John', 'age': '27', 'sex': 'Male'}, 2: {'name': 'Marie', 'age': '22', 'sex': 'Female'}, 3: {'name': 'Luna', 'age': '30', 'sex': 'Female'}, 4: {'name': 'Peter', 'age': '29', 'sex': 'Male'}}\n",
      "{1: {'name': 'John', 'age': '27', 'sex': 'Male'}, 2: {'name': 'Marie', 'age': '22', 'sex': 'Female'}}\n"
     ]
    }
   ],
   "source": [
    "people = {1: {'name':'John', 'age':'27', 'sex':'Male'},\n",
    "          2: {'name':'Marie', 'age':'22', 'sex':'Female'},\n",
    "          3: {'name':'Luna', 'age':'30', 'sex':'Female'},\n",
    "          4: {'name':'Peter', 'age':'29', 'sex':'Male'},\n",
    "}\n",
    "\n",
    "print(people)\n",
    "\n",
    "# deleting dictionary from nested dictionary\n",
    "del people[3], people[4]\n",
    "print(people)\n",
    "          "
   ]
  },
  {
   "cell_type": "code",
   "execution_count": 23,
   "metadata": {},
   "outputs": [
    {
     "name": "stdout",
     "output_type": "stream",
     "text": [
      "dict_items([(1, {'name': 'John', 'age': '27', 'sex': 'Male'}), (2, {'name': 'Marie', 'age': '22', 'sex': 'Female'})])\n",
      "\n",
      "Person ID: 1\n",
      "name: John\n",
      "age: 27\n",
      "sex: Male\n",
      "\n",
      "Person ID: 2\n",
      "name: Marie\n",
      "age: 22\n",
      "sex: Female\n"
     ]
    }
   ],
   "source": [
    "# Iterating through a nested dictionary\n",
    "print(people.items())\n",
    "\n",
    "for p_id, p_info in people.items():\n",
    "    print(\"\\nPerson ID:\", p_id)\n",
    "\n",
    "    for key in p_info:\n",
    "        print(key + ':', p_info[key])"
   ]
  }
 ],
 "metadata": {
  "interpreter": {
   "hash": "63b2014fe923bc11fc1089a45e8d8d32d8530e11d1dfc98edf4ada9c05eba13b"
  },
  "kernelspec": {
   "display_name": "Python 3.10.2 64-bit",
   "language": "python",
   "name": "python3"
  },
  "language_info": {
   "codemirror_mode": {
    "name": "ipython",
    "version": 3
   },
   "file_extension": ".py",
   "mimetype": "text/x-python",
   "name": "python",
   "nbconvert_exporter": "python",
   "pygments_lexer": "ipython3",
   "version": "3.10.2"
  },
  "orig_nbformat": 4
 },
 "nbformat": 4,
 "nbformat_minor": 2
}
