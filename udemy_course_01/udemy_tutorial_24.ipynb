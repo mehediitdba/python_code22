{
 "cells": [
  {
   "cell_type": "markdown",
   "metadata": {},
   "source": [
    "# 24-Python break statement"
   ]
  },
  {
   "cell_type": "code",
   "execution_count": 6,
   "metadata": {},
   "outputs": [
    {
     "name": "stdout",
     "output_type": "stream",
     "text": [
      "Number to be guessed  11\n",
      "Number Guessed :  1\n",
      "Number Guessed :  2\n",
      "Number Guessed :  3\n",
      "Number Guessed :  4\n",
      "Number Guessed :  5\n",
      "Number Guessed :  6\n",
      "Number Guessed :  7\n",
      "Number Guessed :  8\n",
      "Number Guessed :  9\n",
      "Number Guessed :  10\n",
      "Number Guessed :  11\n",
      "Random Number has been guessed successfully\n"
     ]
    }
   ],
   "source": [
    "import random as r\n",
    "rand_num = r.randrange(1,30) # Generation a random number between 1 and 19\n",
    "print(\"Number to be guessed \", rand_num)\n",
    "i = 1\n",
    "while True:\n",
    "    print(\"Number Guessed : \", i)\n",
    "    if (i == rand_num): # if the number guessed is correct the this block will be executed\n",
    "        print(\"Random Number has been guessed successfully\")\n",
    "        break # Break statements stop and exits form the loop\n",
    "    i += 1 "
   ]
  }
 ],
 "metadata": {
  "interpreter": {
   "hash": "63b2014fe923bc11fc1089a45e8d8d32d8530e11d1dfc98edf4ada9c05eba13b"
  },
  "kernelspec": {
   "display_name": "Python 3.10.2 64-bit",
   "language": "python",
   "name": "python3"
  },
  "language_info": {
   "codemirror_mode": {
    "name": "ipython",
    "version": 3
   },
   "file_extension": ".py",
   "mimetype": "text/x-python",
   "name": "python",
   "nbconvert_exporter": "python",
   "pygments_lexer": "ipython3",
   "version": "3.10.2"
  },
  "orig_nbformat": 4
 },
 "nbformat": 4,
 "nbformat_minor": 2
}
