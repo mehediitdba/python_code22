{
 "cells": [
  {
   "cell_type": "markdown",
   "metadata": {},
   "source": [
    "# 31-Python Operator Overloading"
   ]
  },
  {
   "cell_type": "code",
   "execution_count": 2,
   "metadata": {},
   "outputs": [],
   "source": [
    "# Operator Overloading\n",
    "class myPoint:\n",
    "    def __init__(self, x=0, y=0):\n",
    "        self.x=x\n",
    "        self.y=y\n",
    "\n",
    "    def __str__(self):\n",
    "        return \"({0},{1})\".format(self.x,self.y)\n",
    "\n",
    "    #Overloading + Operator\n",
    "    def __add__(self, other):\n",
    "        x=self.x + other.x\n",
    "        y=self.y + other.y\n",
    "        return myPoint(x,y)\n",
    "    \n",
    "    # Overloading < Operator\n",
    "    def __lt__(self, other):\n",
    "        self_mag = (self.x ** 2) + (self.y ** 2)\n",
    "        other_mag = (other.x ** 2) + (other.y ** 2)\n",
    "        return self_mag < other_mag"
   ]
  },
  {
   "cell_type": "code",
   "execution_count": 5,
   "metadata": {},
   "outputs": [
    {
     "name": "stdout",
     "output_type": "stream",
     "text": [
      "(1,2)\n",
      "(4,5)\n",
      "\n",
      "True\n",
      "(5,7)\n",
      "\n",
      "True\n",
      "(5,7)\n"
     ]
    }
   ],
   "source": [
    "p1 = myPoint(1,2)\n",
    "p2 = myPoint(4,5)\n",
    "print(p1)\n",
    "print(p2)\n",
    "\n",
    "print()\n",
    "print(p1<p2)\n",
    "print(p1+p2)\n",
    "print()\n",
    "print(p1.__lt__(p2))\n",
    "print(p1.__add__(p2))"
   ]
  }
 ],
 "metadata": {
  "interpreter": {
   "hash": "63b2014fe923bc11fc1089a45e8d8d32d8530e11d1dfc98edf4ada9c05eba13b"
  },
  "kernelspec": {
   "display_name": "Python 3.10.2 64-bit",
   "language": "python",
   "name": "python3"
  },
  "language_info": {
   "codemirror_mode": {
    "name": "ipython",
    "version": 3
   },
   "file_extension": ".py",
   "mimetype": "text/x-python",
   "name": "python",
   "nbconvert_exporter": "python",
   "pygments_lexer": "ipython3",
   "version": "3.10.2"
  },
  "orig_nbformat": 4
 },
 "nbformat": 4,
 "nbformat_minor": 2
}
