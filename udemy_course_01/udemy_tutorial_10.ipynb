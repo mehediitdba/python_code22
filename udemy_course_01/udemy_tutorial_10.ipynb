{
 "cells": [
  {
   "cell_type": "markdown",
   "metadata": {},
   "source": [
    "# 10-Python Directory And File Management System"
   ]
  },
  {
   "cell_type": "code",
   "execution_count": 1,
   "metadata": {},
   "outputs": [
    {
     "name": "stdout",
     "output_type": "stream",
     "text": [
      "d:\\MY_DEVLOPMENT\\PYTHON\\HR_Venture\\pythone_code\\python_code22\\udemy_course_01\n",
      "b'd:\\\\MY_DEVLOPMENT\\\\PYTHON\\\\HR_Venture\\\\pythone_code\\\\python_code22\\\\udemy_course_01'\n"
     ]
    }
   ],
   "source": [
    "import os\n",
    "print(os.getcwd())     #Returns the present working directory\n",
    "print(os.getcwdb())    # Returns the present working directory as a byte object\n",
    "  "
   ]
  },
  {
   "cell_type": "code",
   "execution_count": 4,
   "metadata": {},
   "outputs": [
    {
     "name": "stdout",
     "output_type": "stream",
     "text": [
      "[]\n"
     ]
    }
   ],
   "source": [
    "os.chdir('D:\\\\MY_DEVLOPMENT\\\\PYTHON\\\\FileTest') # use to change directory\n",
    "print(os.listdir()) # All files and sub directories inside a directory\n",
    "                    # can be known using the listdir() method.\n"
   ]
  },
  {
   "cell_type": "code",
   "execution_count": 5,
   "metadata": {},
   "outputs": [],
   "source": [
    "# used to make a new directory\n",
    "os.mkdir('Test')"
   ]
  },
  {
   "cell_type": "code",
   "execution_count": 6,
   "metadata": {},
   "outputs": [],
   "source": [
    "# used to rename a directory\n",
    "os.rename('Test', 'New_One')"
   ]
  },
  {
   "cell_type": "code",
   "execution_count": 8,
   "metadata": {},
   "outputs": [
    {
     "ename": "FileNotFoundError",
     "evalue": "[WinError 2] The system cannot find the file specified: 'Test.txt'",
     "output_type": "error",
     "traceback": [
      "\u001b[1;31m---------------------------------------------------------------------------\u001b[0m",
      "\u001b[1;31mFileNotFoundError\u001b[0m                         Traceback (most recent call last)",
      "\u001b[1;32md:\\MY_DEVLOPMENT\\PYTHON\\HR_Venture\\pythone_code\\python_code22\\udemy_course_01\\udemy_tutorial_10.ipynb Cell 6'\u001b[0m in \u001b[0;36m<module>\u001b[1;34m\u001b[0m\n\u001b[0;32m      <a href='vscode-notebook-cell:/d%3A/MY_DEVLOPMENT/PYTHON/HR_Venture/pythone_code/python_code22/udemy_course_01/udemy_tutorial_10.ipynb#ch0000006?line=0'>1</a>\u001b[0m \u001b[39m# Removing a file and directroy\u001b[39;00m\n\u001b[1;32m----> <a href='vscode-notebook-cell:/d%3A/MY_DEVLOPMENT/PYTHON/HR_Venture/pythone_code/python_code22/udemy_course_01/udemy_tutorial_10.ipynb#ch0000006?line=1'>2</a>\u001b[0m os\u001b[39m.\u001b[39;49mremove(\u001b[39m'\u001b[39;49m\u001b[39mTest.txt\u001b[39;49m\u001b[39m'\u001b[39;49m) \u001b[39m# use to remove a file\u001b[39;00m\n\u001b[0;32m      <a href='vscode-notebook-cell:/d%3A/MY_DEVLOPMENT/PYTHON/HR_Venture/pythone_code/python_code22/udemy_course_01/udemy_tutorial_10.ipynb#ch0000006?line=2'>3</a>\u001b[0m os\u001b[39m.\u001b[39mrmdir(\u001b[39m'\u001b[39m\u001b[39mNew_One\u001b[39m\u001b[39m'\u001b[39m)\n",
      "\u001b[1;31mFileNotFoundError\u001b[0m: [WinError 2] The system cannot find the file specified: 'Test.txt'"
     ]
    }
   ],
   "source": [
    "# Removing a file and directroy\n",
    "os.remove('Test.txt') # use to remove a file\n",
    "os.rmdir('New_One') # use to remove a directory\n"
   ]
  },
  {
   "cell_type": "code",
   "execution_count": null,
   "metadata": {},
   "outputs": [],
   "source": [
    "os.chdir('D:\\MY_DEVLOPMENT\\PYTHON\\FileTest')"
   ]
  }
 ],
 "metadata": {
  "interpreter": {
   "hash": "63b2014fe923bc11fc1089a45e8d8d32d8530e11d1dfc98edf4ada9c05eba13b"
  },
  "kernelspec": {
   "display_name": "Python 3.10.2 64-bit",
   "language": "python",
   "name": "python3"
  },
  "language_info": {
   "codemirror_mode": {
    "name": "ipython",
    "version": 3
   },
   "file_extension": ".py",
   "mimetype": "text/x-python",
   "name": "python",
   "nbconvert_exporter": "python",
   "pygments_lexer": "ipython3",
   "version": "3.10.2"
  },
  "orig_nbformat": 4
 },
 "nbformat": 4,
 "nbformat_minor": 2
}
