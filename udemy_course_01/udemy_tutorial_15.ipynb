{
 "cells": [
  {
   "cell_type": "markdown",
   "metadata": {},
   "source": [
    "# 15-Python Namespace And Scope\n"
   ]
  },
  {
   "cell_type": "code",
   "execution_count": 4,
   "metadata": {},
   "outputs": [
    {
     "name": "stdout",
     "output_type": "stream",
     "text": [
      "id(2) = 2103267819792\n",
      "id(a) = 2103267819792\n",
      "id(a) = 2103267819792\n",
      "id(a) = 2103267819824\n",
      "id(3) = 2103267819824\n",
      "id(2) = 2103267819792\n",
      "id(b) = 2103267819792\n"
     ]
    }
   ],
   "source": [
    "#Name (also called identifier) is simply a name given to objects\n",
    "\n",
    "#We can get the address (in RAM) of some object through the built-in function, id().\n",
    "# Note: You may get different value of id\n",
    "\n",
    "a = 2\n",
    "# Output: id(2) = 10919424\n",
    "print('id(2) =', id(2))\n",
    "\n",
    "# Output : id(a) = 10919424\n",
    "print('id(a) =', id(a))\n",
    "\n",
    "a = 2\n",
    "\n",
    "# Output : id(a) = 10919424\n",
    "print('id(a) =', id(a))\n",
    "\n",
    "a=a+1\n",
    "# Output : id(a) = 10919456\n",
    "print('id(a) =', id(a))\n",
    "\n",
    "# Output : id(3) = 10919456\n",
    "print('id(3) =', id(3))\n",
    "\n",
    "b=2\n",
    "\n",
    "# Output : id(2) = 10919424\n",
    "print('id(2) =', id(2))\n",
    "print('id(b) =', id(b))\n"
   ]
  },
  {
   "cell_type": "code",
   "execution_count": 8,
   "metadata": {},
   "outputs": [
    {
     "name": "stdout",
     "output_type": "stream",
     "text": [
      "a = 10\n",
      "a = 30\n",
      "a =  30\n",
      "a = 30\n"
     ]
    }
   ],
   "source": [
    "# Scope\n",
    "def outer_function():\n",
    "    global a\n",
    "    a = 20\n",
    "\n",
    "    def inner_function():\n",
    "        global a\n",
    "        a = 30\n",
    "        print('a =', a)\n",
    "    \n",
    "    inner_function()\n",
    "    print('a = ', a)\n",
    "\n",
    "a = 10\n",
    "print('a =', a)\n",
    "outer_function()\n",
    "print('a =', a)"
   ]
  }
 ],
 "metadata": {
  "interpreter": {
   "hash": "63b2014fe923bc11fc1089a45e8d8d32d8530e11d1dfc98edf4ada9c05eba13b"
  },
  "kernelspec": {
   "display_name": "Python 3.10.2 64-bit",
   "language": "python",
   "name": "python3"
  },
  "language_info": {
   "codemirror_mode": {
    "name": "ipython",
    "version": 3
   },
   "file_extension": ".py",
   "mimetype": "text/x-python",
   "name": "python",
   "nbconvert_exporter": "python",
   "pygments_lexer": "ipython3",
   "version": "3.10.2"
  },
  "orig_nbformat": 4
 },
 "nbformat": 4,
 "nbformat_minor": 2
}
