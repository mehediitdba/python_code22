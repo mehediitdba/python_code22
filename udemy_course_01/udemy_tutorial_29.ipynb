{
 "cells": [
  {
   "cell_type": "markdown",
   "metadata": {},
   "source": [
    "# 29--Python OOP Approach"
   ]
  },
  {
   "cell_type": "code",
   "execution_count": 1,
   "metadata": {},
   "outputs": [],
   "source": [
    "# Creating Class and Object in Python\n",
    "class myBird:\n",
    "\n",
    "    def __init__(self):\n",
    "        print(\"MyBird casss constructor is executing....\")\n",
    "    \n",
    "    def whatType(self):\n",
    "        print(\"I am a Brid...\")\n",
    "\n",
    "    def canSwim(self):\n",
    "        print(\"I can Swim..\")"
   ]
  },
  {
   "cell_type": "code",
   "execution_count": 2,
   "metadata": {},
   "outputs": [],
   "source": [
    "class myParrot:\n",
    "    #class attribute\n",
    "    species = \"bird\"\n",
    "\n",
    "    #instance attribute\n",
    "    def __init__(self, name, age):\n",
    "        print(\"myParrot class constructor is executing...\")\n",
    "        self.name=name\n",
    "        self.age =age\n",
    "    \n",
    "    def canSing(self, thisSong):\n",
    "        return \"{} can sing {}\".format(self.name, thisSong)"
   ]
  },
  {
   "cell_type": "code",
   "execution_count": 7,
   "metadata": {},
   "outputs": [],
   "source": [
    "# myPenguin class inheriting the attributes form the myBird class\n",
    "class myPenguin(myBird):\n",
    "\n",
    "    def __init__(self):\n",
    "        #call supper() function\n",
    "        super().__init__()\n",
    "        print(\"Penguin is ready\")\n",
    "\n",
    "    def whoisThis(self):\n",
    "        print(\"I am penguin\")\n",
    "\n",
    "    def canRun(self):\n",
    "        print(\"I can run faster\")\n",
    "\n",
    "    \n"
   ]
  },
  {
   "cell_type": "code",
   "execution_count": 12,
   "metadata": {},
   "outputs": [
    {
     "name": "stdout",
     "output_type": "stream",
     "text": [
      "myParrot class constructor is executing...\n",
      "myParrot class constructor is executing...\n",
      "MP1 is a bird\n",
      "MP2 is also a bird\n",
      "myParrot1 is 10 years of age\n",
      "myParrot1 is 10 years of age\n",
      "myParrot1 can sing Chirp\n",
      "MyBird casss constructor is executing....\n",
      "Penguin is ready\n",
      "I am penguin\n",
      "I can Swim..\n",
      "I can run faster\n"
     ]
    }
   ],
   "source": [
    "# instantiate the Parrot class\n",
    "mp1 = myParrot(\"myParrot1\", 10)\n",
    "mp2 = myParrot(\"myParrot2\", 15)\n",
    "\n",
    "#access the class attirbutes\n",
    "print(\"MP1 is a {}\".format(mp1.__class__.species))\n",
    "print(\"MP2 is also a {}\".format(mp2.__class__.species))\n",
    "\n",
    "#access the instance attirbutes\n",
    "print(\"{} is {} years of age\".format(mp1.name, mp1.age))\n",
    "print(\"{} is {} years of age\".format(mp1.name, mp1.age))\n",
    "print(mp1.canSing(\"Chirp\"))\n",
    "\n",
    "# Accessing the child class's attributes(Inheritance)\n",
    "pg1 = myPenguin()\n",
    "pg1.whoisThis()\n",
    "pg1.canSwim()\n",
    "pg1.canRun()"
   ]
  },
  {
   "cell_type": "code",
   "execution_count": 18,
   "metadata": {},
   "outputs": [
    {
     "name": "stdout",
     "output_type": "stream",
     "text": [
      "Selling Price: 20000\n",
      "Selling Price: 30000\n",
      "Selling Price: 40000\n"
     ]
    }
   ],
   "source": [
    "# Data Encapsulation\n",
    "class parsonalComputer:\n",
    "\n",
    "    def __init__(self):\n",
    "        self.maxComputerPrice = 20000\n",
    "\n",
    "    def mySell(self):\n",
    "        print(\"Selling Price: {}\".format(self.maxComputerPrice))\n",
    "\n",
    "\n",
    "    def setMaxComputerPrice(self, price):\n",
    "        self.maxComputerPrice = price\n",
    "\n",
    "pc = parsonalComputer()\n",
    "pc.mySell()\n",
    "\n",
    "#change the price\n",
    "pc.maxComputerPrice = 30000\n",
    "pc.mySell()\n",
    "\n",
    "#using setter function\n",
    "pc.setMaxComputerPrice(40000)\n",
    "pc.mySell()"
   ]
  }
 ],
 "metadata": {
  "interpreter": {
   "hash": "63b2014fe923bc11fc1089a45e8d8d32d8530e11d1dfc98edf4ada9c05eba13b"
  },
  "kernelspec": {
   "display_name": "Python 3.10.2 64-bit",
   "language": "python",
   "name": "python3"
  },
  "language_info": {
   "codemirror_mode": {
    "name": "ipython",
    "version": 3
   },
   "file_extension": ".py",
   "mimetype": "text/x-python",
   "name": "python",
   "nbconvert_exporter": "python",
   "pygments_lexer": "ipython3",
   "version": "3.10.2"
  },
  "orig_nbformat": 4
 },
 "nbformat": 4,
 "nbformat_minor": 2
}
