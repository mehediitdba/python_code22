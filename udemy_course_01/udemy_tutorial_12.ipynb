{
 "cells": [
  {
   "cell_type": "markdown",
   "metadata": {},
   "source": [
    "# 12- Python Strings"
   ]
  },
  {
   "cell_type": "code",
   "execution_count": 4,
   "metadata": {},
   "outputs": [
    {
     "name": "stdout",
     "output_type": "stream",
     "text": [
      "Welcome\n",
      "Welcome\n",
      "Welcome\n",
      "Welcome to the world of Pythone Programming\n"
     ]
    }
   ],
   "source": [
    "# different ways to define a string in Python\n",
    "mystr1 = 'Welcome'\n",
    "print(mystr1)\n",
    "\n",
    "mystr2 = \"Welcome\"\n",
    "print(mystr2)\n",
    "\n",
    "mystr3 = '''Welcome'''\n",
    "print(mystr3)\n",
    "\n",
    "# triple quates string can extend multiple lines\n",
    "mystr3 = \"\"\"Welcome to the world of Pythone Programming\"\"\"\n",
    "print(mystr3)"
   ]
  },
  {
   "cell_type": "code",
   "execution_count": 7,
   "metadata": {},
   "outputs": [
    {
     "name": "stdout",
     "output_type": "stream",
     "text": [
      "mystr =  language\n",
      "mystr[0] =  l\n",
      "mystr[-1] = e\n",
      "mystr[1:5] = angu\n",
      "mystr[5:-2] = a\n"
     ]
    }
   ],
   "source": [
    "# Accessing characters in a string\n",
    "mystr = 'language'\n",
    "print('mystr = ', mystr)\n",
    "\n",
    "print('mystr[0] = ', mystr[0])\n",
    "print('mystr[-1] =', mystr[-1])\n",
    "print('mystr[1:5] =', mystr[1:5])\n",
    "print('mystr[5:-2] =', mystr[5: -2])\n",
    "#print('mystr[10] = ', mystr[10])\n"
   ]
  },
  {
   "cell_type": "code",
   "execution_count": null,
   "metadata": {},
   "outputs": [],
   "source": [
    "# strings are immutable\n",
    "# but different sttrings can be assigned\n",
    "\n",
    "mystr = 'language'\n",
    "print(mystr)\n",
    "\n",
    "mystr = 'programming'\n",
    "print(mystr)\n",
    "\n",
    "# mystr[3] = 'x'\n"
   ]
  },
  {
   "cell_type": "code",
   "execution_count": 9,
   "metadata": {},
   "outputs": [
    {
     "name": "stdout",
     "output_type": "stream",
     "text": [
      "mystr1 + mystr2 =  Welcome to all\n",
      "mystr1 * 3 =  WelcomeWelcomeWelcome\n"
     ]
    }
   ],
   "source": [
    "# concatenation of strings\n",
    "mystr1 = 'Welcome'\n",
    "mystr2 = ' to all'\n",
    "\n",
    "# using +\n",
    "print('mystr1 + mystr2 = ', mystr1 + mystr2 )\n",
    "\n",
    "#using *\n",
    "\n",
    "print('mystr1 * 3 = ', mystr1 * 3)"
   ]
  },
  {
   "cell_type": "code",
   "execution_count": 12,
   "metadata": {},
   "outputs": [
    {
     "name": "stdout",
     "output_type": "stream",
     "text": [
      "3 times 1 letter has been found\n"
     ]
    }
   ],
   "source": [
    "# iterating through a string\n",
    "letter_count = 0\n",
    "for letters in 'Hello World':\n",
    "    if (letters == 'l'):\n",
    "        letter_count += 1\n",
    "print(letter_count, 'times 1 letter has been found')"
   ]
  },
  {
   "cell_type": "code",
   "execution_count": 13,
   "metadata": {},
   "outputs": [
    {
     "name": "stdout",
     "output_type": "stream",
     "text": [
      "True\n",
      "False\n",
      "False\n",
      "True\n"
     ]
    }
   ],
   "source": [
    "# string membership\n",
    "print('l' in \"hello\")\n",
    "print('l' not in \"hello\")\n",
    "print('b' in \"hello\")\n",
    "print('b' not in \"hello\")"
   ]
  },
  {
   "cell_type": "code",
   "execution_count": 15,
   "metadata": {},
   "outputs": [
    {
     "name": "stdout",
     "output_type": "stream",
     "text": [
      "list(enumerate(mystr) [(0, 'u'), (1, 'n'), (2, 'i'), (3, 'v'), (4, 'e'), (5, 'r'), (6, 's'), (7, 'i'), (8, 't'), (9, 'y')]\n",
      "len(mystr) =  10\n"
     ]
    }
   ],
   "source": [
    "# built-in function\n",
    "mystr = 'university'\n",
    "\n",
    "# using enumerate()\n",
    "my_list_enumerate = list(enumerate(mystr))\n",
    "print('list(enumerate(mystr)', my_list_enumerate)\n",
    "\n",
    "#using character count\n",
    "print('len(mystr) = ', len(mystr))"
   ]
  },
  {
   "cell_type": "code",
   "execution_count": 22,
   "metadata": {},
   "outputs": [
    {
     "name": "stdout",
     "output_type": "stream",
     "text": [
      "tell me \"what's your name?\"\n",
      "tell me \"What's your name?\"\n",
      "tell me 'what's your name?'\n",
      "tell me \"what's your name?\"\n"
     ]
    }
   ],
   "source": [
    "# string formatting using escape sequence\n",
    "# print (\"tell me \"What's your name?\"\")\n",
    "\n",
    "# using triple quotes\n",
    "print('''tell me \"what's your name?\"''')\n",
    "\n",
    "#escaping single quotes\n",
    "print('tell me \"What\\'s your name?\"')\n",
    "\n",
    "#escaping single-quotes\n",
    "print(\"tell me 'what\\'s your name?'\")\n",
    "\n",
    "#escaping duble-quotes\n",
    "print(\"tell me \\\"what's your name?\\\"\")"
   ]
  },
  {
   "cell_type": "code",
   "execution_count": 25,
   "metadata": {},
   "outputs": [
    {
     "name": "stdout",
     "output_type": "stream",
     "text": [
      "D:\\MY_DEVLOPMENT\\PYTHON\\FileTest\\mydata.txt\n",
      "this line is having a new line \n",
      "character\n",
      "this line is having a tab \t character\n",
      "ABC written in ABC (HEX) representation\n"
     ]
    }
   ],
   "source": [
    "print(\"D:\\\\MY_DEVLOPMENT\\\\PYTHON\\\\FileTest\\\\mydata.txt\")\n",
    "print(\"this line is having a new line \\ncharacter\")\n",
    "print(\"this line is having a tab \\t character\")\n",
    "print(\"ABC written in \\x41\\x42\\x43 (HEX) representation\")\n"
   ]
  },
  {
   "cell_type": "code",
   "execution_count": 30,
   "metadata": {},
   "outputs": [
    {
     "name": "stdout",
     "output_type": "stream",
     "text": [
      "Today is and Sunday\n",
      "Today is and Sunday\n",
      "Today is and Sunday\n"
     ]
    }
   ],
   "source": [
    "# format () method\n",
    "# default(implicit) order\n",
    "default_order = \"{} {} and {}\".format('Today', 'is', 'Sunday')\n",
    "print(default_order)\n",
    "\n",
    "# order using positional argument\n",
    "positional_order = \"{1} {0} and {2}\".format('is', 'Today', 'Sunday')\n",
    "print(positional_order)\n",
    "\n",
    "\n",
    "#order using keyword argument\n",
    "keyword_order = \"{t} {i} and {s}\".format(i='is',t='Today', s='Sunday')\n",
    "print(keyword_order)"
   ]
  },
  {
   "cell_type": "code",
   "execution_count": 34,
   "metadata": {},
   "outputs": [
    {
     "name": "stdout",
     "output_type": "stream",
     "text": [
      "Required binary representation of 20 is 10100\n",
      "Exponent representation : 1.566345e+03\n",
      "One third is 0.333333\n"
     ]
    }
   ],
   "source": [
    "# formatting number\n",
    "print(\"Required binary representation of {0} is {0:b}\".format(20))\n",
    "\n",
    "#formatting floots\n",
    "print(\"Exponent representation : {0:e}\".format(1566.345))\n",
    "\n",
    "#round off\n",
    "print(\"One third is {0:3f}\".format(1/3))\n",
    "\n"
   ]
  },
  {
   "cell_type": "code",
   "execution_count": 35,
   "metadata": {},
   "outputs": [
    {
     "name": "stdout",
     "output_type": "stream",
     "text": [
      "good morning to all\n",
      "GOOD MORNING TO ALL\n",
      "13\n",
      "-1\n",
      "gOOD moRning tO everybody\n",
      "gOOD moRning tO alL\n"
     ]
    }
   ],
   "source": [
    "# string methods\n",
    "print(\"gOOD moRning tO alL\".lower())\n",
    "print(\"gOOD moRning tO alL\".upper())\n",
    "print(\"gOOD moRning tO alL\".find('tO'))\n",
    "print(\"gOOD moRning tO alL\".find('to'))\n",
    "print(\"gOOD moRning tO alL\".replace('alL', 'everybody'))"
   ]
  }
 ],
 "metadata": {
  "interpreter": {
   "hash": "63b2014fe923bc11fc1089a45e8d8d32d8530e11d1dfc98edf4ada9c05eba13b"
  },
  "kernelspec": {
   "display_name": "Python 3.10.2 64-bit",
   "language": "python",
   "name": "python3"
  },
  "language_info": {
   "codemirror_mode": {
    "name": "ipython",
    "version": 3
   },
   "file_extension": ".py",
   "mimetype": "text/x-python",
   "name": "python",
   "nbconvert_exporter": "python",
   "pygments_lexer": "ipython3",
   "version": "3.10.2"
  },
  "orig_nbformat": 4
 },
 "nbformat": 4,
 "nbformat_minor": 2
}
