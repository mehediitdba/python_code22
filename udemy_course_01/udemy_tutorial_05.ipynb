{
 "cells": [
  {
   "cell_type": "markdown",
   "metadata": {},
   "source": [
    "# Python File Methods"
   ]
  },
  {
   "cell_type": "code",
   "execution_count": null,
   "metadata": {},
   "outputs": [],
   "source": [
    "# close()  -- Close an open file. It has no effect if the file is alreadyy closed.\n",
    "# detach() -- Separate the underlying binary buffer from the textIOBase and return it.\n",
    "# fileno() -- Return an integer number (file)\n",
    "# flush() -- Flush the write buffer of the file stream.\n",
    "# isatty() - REturn True if the file stream is interactive.\n",
    "# read(n) -- Read atmost n characters forms the file. Reads till end of file if it is negative or None.\n",
    "# readable() -- Return True if the file stream can be read from.\n",
    "# readline(n=-1) -- Read and return one line from the file. Read in at most n bytes if specified.\n",
    "# readlines(n=-1)  -- Read and return a list of lines from thee file. Reads in a most n bytes/characters if specified.\n",
    "# seek(offset, from=SEEK_SET) -- Change the file position to offset bytes, in reference to froth (start, current, end)\n",
    "# seekable() -- Return True if the file stream supports random access.\n",
    "# tell() -- Return the current file location\n",
    "# truncate(size=N one) -- Resize the file stream to size bytes. If size is not specified, resize to current location.\n",
    "# writable() -- returns true if the file stream can be written to.\n",
    "# write(s) -- Write string s to the file and return the number of characters written.\n",
    "# writelines(lines) -- Write a list of lines to the file.\n",
    "\n"
   ]
  }
 ],
 "metadata": {
  "language_info": {
   "name": "python"
  },
  "orig_nbformat": 4
 },
 "nbformat": 4,
 "nbformat_minor": 2
}
