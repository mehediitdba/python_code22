{
 "cells": [
  {
   "cell_type": "markdown",
   "metadata": {},
   "source": [
    "#Adv. Datatypes List"
   ]
  },
  {
   "cell_type": "code",
   "execution_count": 16,
   "metadata": {},
   "outputs": [
    {
     "data": {
      "text/plain": [
       "list"
      ]
     },
     "execution_count": 16,
     "metadata": {},
     "output_type": "execute_result"
    }
   ],
   "source": [
    "#storing data\n",
    "std=[1,2,3,4,5,6,7,8,9]\n",
    "type(std)"
   ]
  },
  {
   "cell_type": "code",
   "execution_count": 11,
   "metadata": {},
   "outputs": [
    {
     "data": {
      "text/plain": [
       "[8, 7, 6, 5]"
      ]
     },
     "execution_count": 11,
     "metadata": {},
     "output_type": "execute_result"
    }
   ],
   "source": [
    "#accessing Data\n",
    "std[2]\n",
    "std[2:6]\n",
    "std[2:6:2]\n",
    "std[::-1]\n",
    "std[-2:-6:-1]"
   ]
  },
  {
   "cell_type": "code",
   "execution_count": 44,
   "metadata": {},
   "outputs": [
    {
     "data": {
      "text/plain": [
       "[]"
      ]
     },
     "execution_count": 44,
     "metadata": {},
     "output_type": "execute_result"
    }
   ],
   "source": [
    "#List\n",
    "std=[1,2,3,4,5,6,7,8,9]\n",
    "std.append(10) #add data in the end of list\n",
    "std.insert(0,99) #insert have 2 parameter [index, value]\n",
    "std.index(4) #index position janar jonno\n",
    "std.count(5) #count value how many time have\n",
    "std.extend([99,88,77]) #Multivalue invock like append\n",
    "std.pop(0) #remove indexing value or end value\n",
    "std.remove(4) #remove value from index\n",
    "std.sort() #sort asc\n",
    "std.sort(reverse=True) #sort desc\n",
    "std.clear() #clear list\n",
    "std"
   ]
  },
  {
   "cell_type": "code",
   "execution_count": 65,
   "metadata": {},
   "outputs": [
    {
     "data": {
      "text/plain": [
       "[1, 2, 0, -1, 0, -1, 7, 8, 9]"
      ]
     },
     "execution_count": 65,
     "metadata": {},
     "output_type": "execute_result"
    }
   ],
   "source": [
    "#updating\n",
    "std=[1,2,3,4,5,6,7,8,9]\n",
    "std[2]=4\n",
    "std[2:6]=0,-1,0,-1\n",
    "std"
   ]
  },
  {
   "cell_type": "code",
   "execution_count": 51,
   "metadata": {},
   "outputs": [
    {
     "data": {
      "text/plain": [
       "3"
      ]
     },
     "execution_count": 51,
     "metadata": {},
     "output_type": "execute_result"
    }
   ],
   "source": [
    "num1, num2, num3 = 1,2,3\n",
    "num3"
   ]
  },
  {
   "cell_type": "code",
   "execution_count": 71,
   "metadata": {},
   "outputs": [
    {
     "data": {
      "text/plain": [
       "[1, 2, 3, 4, 5, 6, 7, 8, 9, 'shalo copy']"
      ]
     },
     "execution_count": 71,
     "metadata": {},
     "output_type": "execute_result"
    }
   ],
   "source": [
    "#shallo vs deep copy, \n",
    "std=[1,2,3,4,5,6,7,8,9]\n",
    "std1=std\n",
    "std1\n",
    "std1.append(\"shalo copy\")\n",
    "std1\n",
    "std\n"
   ]
  },
  {
   "cell_type": "code",
   "execution_count": 73,
   "metadata": {},
   "outputs": [
    {
     "data": {
      "text/plain": [
       "[1, 2, 3, 4, 5, 6, 7, 8, 9, 'Deep Copy']"
      ]
     },
     "execution_count": 73,
     "metadata": {},
     "output_type": "execute_result"
    }
   ],
   "source": [
    "#deep comp\n",
    "std=[1,2,3,4,5,6,7,8,9]\n",
    "std2 = std.copy()\n",
    "std2.append(\"Deep Copy\")\n",
    "std2"
   ]
  },
  {
   "cell_type": "code",
   "execution_count": 80,
   "metadata": {},
   "outputs": [
    {
     "ename": "NameError",
     "evalue": "name 'std' is not defined",
     "output_type": "error",
     "traceback": [
      "\u001b[1;31m---------------------------------------------------------------------------\u001b[0m",
      "\u001b[1;31mNameError\u001b[0m                                 Traceback (most recent call last)",
      "\u001b[1;32md:\\MY_DEVLOPMENT\\PYTHON\\HR_Venture\\pythone_code\\python_code22\\program_class_3.ipynb Cell 9'\u001b[0m in \u001b[0;36m<module>\u001b[1;34m\u001b[0m\n\u001b[1;32m----> <a href='vscode-notebook-cell:/d%3A/MY_DEVLOPMENT/PYTHON/HR_Venture/pythone_code/python_code22/program_class_3.ipynb#ch0000013?line=0'>1</a>\u001b[0m std\n\u001b[0;32m      <a href='vscode-notebook-cell:/d%3A/MY_DEVLOPMENT/PYTHON/HR_Venture/pythone_code/python_code22/program_class_3.ipynb#ch0000013?line=1'>2</a>\u001b[0m \u001b[39mdel\u001b[39;00m std\n\u001b[0;32m      <a href='vscode-notebook-cell:/d%3A/MY_DEVLOPMENT/PYTHON/HR_Venture/pythone_code/python_code22/program_class_3.ipynb#ch0000013?line=2'>3</a>\u001b[0m std\n",
      "\u001b[1;31mNameError\u001b[0m: name 'std' is not defined"
     ]
    }
   ],
   "source": [
    "std\n",
    "del std\n",
    "std"
   ]
  },
  {
   "cell_type": "code",
   "execution_count": 81,
   "metadata": {},
   "outputs": [
    {
     "data": {
      "text/plain": [
       "('p', 'y', 't', 'h', 'o', 'n', 'e')"
      ]
     },
     "execution_count": 81,
     "metadata": {},
     "output_type": "execute_result"
    }
   ],
   "source": [
    "#list \n",
    "p=\"pythone\"\n",
    "list(p)\n",
    "tuple(p)"
   ]
  },
  {
   "cell_type": "code",
   "execution_count": 82,
   "metadata": {},
   "outputs": [
    {
     "data": {
      "text/plain": [
       "1"
      ]
     },
     "execution_count": 82,
     "metadata": {},
     "output_type": "execute_result"
    }
   ],
   "source": [
    "#Tuple [1. not update, 2. ]\n",
    "t=(1,2,3,4,5,6,7,8,9)\n",
    "t\n",
    "t.index(5)\n",
    "t.count(3)\n",
    "\n",
    "#Question is : different between tuple and list\n",
    "#Answer is : tuple not changes the value, execution 3rd bracate, and 1first bracater"
   ]
  },
  {
   "cell_type": "code",
   "execution_count": 93,
   "metadata": {},
   "outputs": [],
   "source": [
    "#Set\n",
    "s1={1,2,3,4,5,6,6,7}\n",
    "s2={3,4,5,9,11,10}\n",
    "#s1[2]\n",
    "s2.add(0)\n",
    "s2.remove(0) #valu na pala error diba\n",
    "s1.pop()\n",
    "s1.discard(3) #valu na pala error diba na\n",
    "#s1\n",
    "s1.union(s2)\n",
    "s1.intersection(s2)\n",
    "s1.difference(s2)\n",
    "s1.symmetric_difference(s2)\n",
    "s1.difference_update(s2)\n"
   ]
  },
  {
   "cell_type": "code",
   "execution_count": 15,
   "metadata": {},
   "outputs": [
    {
     "data": {
      "text/plain": [
       "{'roll': 2, 'Name': 'Jone', 'Age': 35, 'branch': 'abc'}"
      ]
     },
     "execution_count": 15,
     "metadata": {},
     "output_type": "execute_result"
    }
   ],
   "source": [
    "#dictionary [key:vakue pare]\n",
    "data={\"roll\":1, \"Name\":\"Jone\", \"Age\":35}\n",
    "data[\"roll\"]\n",
    "data['roll']=2\n",
    "data[\"Name\"]\n",
    "#added New value\n",
    "data['branch']=\"abc\"\n",
    "data"
   ]
  },
  {
   "cell_type": "code",
   "execution_count": 22,
   "metadata": {},
   "outputs": [
    {
     "ename": "TypeError",
     "evalue": "dict.keys() takes no arguments (1 given)",
     "output_type": "error",
     "traceback": [
      "\u001b[1;31m---------------------------------------------------------------------------\u001b[0m",
      "\u001b[1;31mTypeError\u001b[0m                                 Traceback (most recent call last)",
      "\u001b[1;32md:\\MY_DEVLOPMENT\\PYTHON\\HR_Venture\\pythone_code\\python_code22\\program_class_03.ipynb Cell 14'\u001b[0m in \u001b[0;36m<module>\u001b[1;34m\u001b[0m\n\u001b[1;32m----> <a href='vscode-notebook-cell:/d%3A/MY_DEVLOPMENT/PYTHON/HR_Venture/pythone_code/python_code22/program_class_03.ipynb#ch0000017?line=0'>1</a>\u001b[0m \u001b[39mprint\u001b[39m(data\u001b[39m.\u001b[39;49mkeys(\u001b[39m1\u001b[39;49m))\n",
      "\u001b[1;31mTypeError\u001b[0m: dict.keys() takes no arguments (1 given)"
     ]
    }
   ],
   "source": [
    "print(data.keys(1)) #returln only key"
   ]
  },
  {
   "cell_type": "code",
   "execution_count": 17,
   "metadata": {},
   "outputs": [
    {
     "data": {
      "text/plain": [
       "{'roll': 6, 'Name': 'Jone', 'Age': 35, 'branch': 'abc', 44: 444, 99: 999}"
      ]
     },
     "execution_count": 17,
     "metadata": {},
     "output_type": "execute_result"
    }
   ],
   "source": [
    "data.get('name')\n",
    "data.keys() #returln only key\n",
    "data.values() #return values\n",
    "data.items() #return both\n",
    "data\n",
    "#data.pop('Jone')\n",
    "#data.popitem()\n",
    "data.update({44:444, 99:999})\n",
    "data['roll']=6\n",
    "data\n"
   ]
  },
  {
   "cell_type": "code",
   "execution_count": 18,
   "metadata": {},
   "outputs": [
    {
     "data": {
      "text/plain": [
       "{'roll': 6, 'Name': 'Jone', 'Age': 35, 'branch': 'abc', 44: 444, 99: 999}"
      ]
     },
     "execution_count": 18,
     "metadata": {},
     "output_type": "execute_result"
    }
   ],
   "source": [
    "data.fromkeys([4,5,6,7,8,9], 404) # for external usess\n",
    "data"
   ]
  },
  {
   "cell_type": "code",
   "execution_count": 124,
   "metadata": {},
   "outputs": [
    {
     "data": {
      "text/plain": [
       "{'roll': 6,\n",
       " 'Name': 'Jone',\n",
       " 'Age': 35,\n",
       " 'branch': 'abc',\n",
       " 44: 444,\n",
       " 99: 999,\n",
       " 45: None}"
      ]
     },
     "execution_count": 124,
     "metadata": {},
     "output_type": "execute_result"
    }
   ],
   "source": [
    "data.setdefault(45) # for future value\n",
    "data"
   ]
  }
 ],
 "metadata": {
  "interpreter": {
   "hash": "63b2014fe923bc11fc1089a45e8d8d32d8530e11d1dfc98edf4ada9c05eba13b"
  },
  "kernelspec": {
   "display_name": "Python 3.10.2 64-bit",
   "language": "python",
   "name": "python3"
  },
  "language_info": {
   "codemirror_mode": {
    "name": "ipython",
    "version": 3
   },
   "file_extension": ".py",
   "mimetype": "text/x-python",
   "name": "python",
   "nbconvert_exporter": "python",
   "pygments_lexer": "ipython3",
   "version": "3.10.2"
  },
  "orig_nbformat": 4
 },
 "nbformat": 4,
 "nbformat_minor": 2
}
