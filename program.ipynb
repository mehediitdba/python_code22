{
 "cells": [
  {
   "cell_type": "code",
   "execution_count": 5,
   "metadata": {},
   "outputs": [
    {
     "name": "stdout",
     "output_type": "stream",
     "text": [
      "lamon!\n"
     ]
    }
   ],
   "source": [
    "#input phase\n",
    "name = input(\"Input Your Name : \")\n",
    "\n",
    "#process phase\n",
    "name = name + \"!\"\n",
    "\n",
    "#output fhase->\n",
    "print(name)"
   ]
  },
  {
   "cell_type": "code",
   "execution_count": 2,
   "metadata": {},
   "outputs": [
    {
     "name": "stdout",
     "output_type": "stream",
     "text": [
      "kamal @ jamal\n"
     ]
    }
   ],
   "source": [
    "\n",
    "#input phase\n",
    "fname = input(\"Input your first name : \")\n",
    "lname = input(\"Input your last name : \")\n",
    "\n",
    "fulname=fname+\" @ \"+lname\n",
    "\n",
    "print(fulname)"
   ]
  },
  {
   "cell_type": "code",
   "execution_count": 34,
   "metadata": {},
   "outputs": [
    {
     "data": {
      "text/plain": [
       "'a'"
      ]
     },
     "execution_count": 34,
     "metadata": {},
     "output_type": "execute_result"
    }
   ],
   "source": [
    "#Datatype string\n",
    "name=\"kamal azad\"\n",
    "name2=\"Kazol Sikdar\"\n",
    "\n",
    "name.capitalize()\n",
    "name.title()\n",
    "name.upper()\n",
    "name.lower()\n",
    "name.count('a')\n",
    "name\n",
    "\"mehedi@gmail.com\".endswith('@gmail.com')\n",
    "\"mehedi@gmail.com\".startswith('mehedi@')\n",
    "\"kamal@azad \".split('@')\n",
    "name[1]"
   ]
  },
  {
   "cell_type": "code",
   "execution_count": 23,
   "metadata": {},
   "outputs": [
    {
     "data": {
      "text/plain": [
       "float"
      ]
     },
     "execution_count": 23,
     "metadata": {},
     "output_type": "execute_result"
    }
   ],
   "source": [
    "#datatype intger\n",
    "age = 36\n",
    "age\n",
    "type(age)\n",
    "weight=65.23\n",
    "weight\n",
    "type(weight)"
   ]
  },
  {
   "cell_type": "code",
   "execution_count": 25,
   "metadata": {},
   "outputs": [
    {
     "data": {
      "text/plain": [
       "bool"
      ]
     },
     "execution_count": 25,
     "metadata": {},
     "output_type": "execute_result"
    }
   ],
   "source": [
    "#Boolean\n",
    "married=True\n",
    "married\n",
    "type(married)"
   ]
  },
  {
   "cell_type": "code",
   "execution_count": 49,
   "metadata": {},
   "outputs": [
    {
     "data": {
      "text/plain": [
       "'moc.liamg'"
      ]
     },
     "execution_count": 49,
     "metadata": {},
     "output_type": "execute_result"
    }
   ],
   "source": [
    "#slicing[start:stop:step]\n",
    "data=\"kamalazad@gmail.com\"\n",
    "data[2]\n",
    "data[5:10]\n",
    "data[:10]\n",
    "data[10:]\n",
    "data[0:200:3]\n",
    "#revarce\n",
    "data[-1:-10:-1]\n"
   ]
  },
  {
   "cell_type": "code",
   "execution_count": 52,
   "metadata": {},
   "outputs": [
    {
     "data": {
      "text/plain": [
       "complex"
      ]
     },
     "execution_count": 52,
     "metadata": {},
     "output_type": "execute_result"
    }
   ],
   "source": [
    "#complex data type\n",
    "c=1+3j\n",
    "c\n",
    "type(c)"
   ]
  },
  {
   "cell_type": "markdown",
   "metadata": {},
   "source": [
    "Tyep Casting"
   ]
  },
  {
   "cell_type": "code",
   "execution_count": 58,
   "metadata": {},
   "outputs": [
    {
     "data": {
      "text/plain": [
       "False"
      ]
     },
     "execution_count": 58,
     "metadata": {},
     "output_type": "execute_result"
    }
   ],
   "source": [
    "data=23\n",
    "float(data)\n",
    "str(data)\n",
    "complex(data)\n",
    "bool(0)\n",
    "bool(None)\n"
   ]
  },
  {
   "cell_type": "code",
   "execution_count": 59,
   "metadata": {},
   "outputs": [],
   "source": [
    "#null in pytyone none\n",
    "None"
   ]
  },
  {
   "cell_type": "code",
   "execution_count": 65,
   "metadata": {},
   "outputs": [
    {
     "data": {
      "text/plain": [
       "'kamal azadkamal azadkamal azadkamal azad'"
      ]
     },
     "execution_count": 65,
     "metadata": {},
     "output_type": "execute_result"
    }
   ],
   "source": [
    "name + name2\n",
    "\n",
    "name * 4"
   ]
  },
  {
   "cell_type": "markdown",
   "metadata": {},
   "source": [
    "#String Formating"
   ]
  },
  {
   "cell_type": "code",
   "execution_count": 72,
   "metadata": {},
   "outputs": [
    {
     "name": "stdout",
     "output_type": "stream",
     "text": [
      "Name : John Age : 26 Weight 66.65\n"
     ]
    }
   ],
   "source": [
    "name =\"John\"\n",
    "age = 26\n",
    "weight=66.65\n",
    "print(\"Name :\",name, \"Age :\",age, \"Weight\",weight)"
   ]
  },
  {
   "cell_type": "code",
   "execution_count": 71,
   "metadata": {},
   "outputs": [
    {
     "name": "stdout",
     "output_type": "stream",
     "text": [
      "Name :John  Age:26 Weight:66.65\n"
     ]
    }
   ],
   "source": [
    "name =\"John\"\n",
    "age = 26\n",
    "weight=66.65\n",
    "print(\"Name :{0}  Age:{1} Weight:{2}\".format(name, age, weight))"
   ]
  },
  {
   "cell_type": "code",
   "execution_count": 75,
   "metadata": {},
   "outputs": [
    {
     "name": "stdout",
     "output_type": "stream",
     "text": [
      "Name : John  Age: 26 Weight: 66.650\n"
     ]
    }
   ],
   "source": [
    "name =\"John\"\n",
    "age = 26\n",
    "weight=66.65\n",
    "print(\"Name : %s  Age: %d Weight: %.3f\"%(name, age, weight))"
   ]
  },
  {
   "cell_type": "code",
   "execution_count": 78,
   "metadata": {},
   "outputs": [
    {
     "name": "stdout",
     "output_type": "stream",
     "text": [
      "Name : John  Age: 26 Weight: 66.65\n"
     ]
    }
   ],
   "source": [
    "name =\"John\"\n",
    "age = 26\n",
    "weight=66.65\n",
    "print(f\"Name : {name}  Age: {age} Weight: {weight}\")"
   ]
  },
  {
   "cell_type": "code",
   "execution_count": 80,
   "metadata": {},
   "outputs": [
    {
     "data": {
      "text/plain": [
       "'0b111000110'"
      ]
     },
     "execution_count": 80,
     "metadata": {},
     "output_type": "execute_result"
    }
   ],
   "source": [
    "bin(454)"
   ]
  },
  {
   "cell_type": "code",
   "execution_count": 81,
   "metadata": {},
   "outputs": [
    {
     "data": {
      "text/plain": [
       "'a'"
      ]
     },
     "execution_count": 81,
     "metadata": {},
     "output_type": "execute_result"
    }
   ],
   "source": [
    "chr(97)"
   ]
  },
  {
   "cell_type": "code",
   "execution_count": 82,
   "metadata": {},
   "outputs": [
    {
     "data": {
      "text/plain": [
       "'0xd'"
      ]
     },
     "execution_count": 82,
     "metadata": {},
     "output_type": "execute_result"
    }
   ],
   "source": [
    "hex(13)"
   ]
  },
  {
   "cell_type": "code",
   "execution_count": 83,
   "metadata": {},
   "outputs": [
    {
     "data": {
      "text/plain": [
       "'0o15'"
      ]
     },
     "execution_count": 83,
     "metadata": {},
     "output_type": "execute_result"
    }
   ],
   "source": [
    "oct(13)"
   ]
  }
 ],
 "metadata": {
  "interpreter": {
   "hash": "63b2014fe923bc11fc1089a45e8d8d32d8530e11d1dfc98edf4ada9c05eba13b"
  },
  "kernelspec": {
   "display_name": "Python 3.10.2 64-bit",
   "language": "python",
   "name": "python3"
  },
  "language_info": {
   "codemirror_mode": {
    "name": "ipython",
    "version": 3
   },
   "file_extension": ".py",
   "mimetype": "text/x-python",
   "name": "python",
   "nbconvert_exporter": "python",
   "pygments_lexer": "ipython3",
   "version": "3.10.2"
  },
  "orig_nbformat": 4
 },
 "nbformat": 4,
 "nbformat_minor": 2
}
