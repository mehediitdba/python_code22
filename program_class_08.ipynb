{
 "cells": [
  {
   "cell_type": "markdown",
   "metadata": {},
   "source": [
    "# Inheritance "
   ]
  },
  {
   "cell_type": "markdown",
   "metadata": {},
   "source": [
    "# Single Inheritance"
   ]
  },
  {
   "cell_type": "code",
   "execution_count": 2,
   "metadata": {},
   "outputs": [],
   "source": [
    "# Base Class or Supper Class\n",
    "class product:\n",
    "    platform = 'Amazon'\n",
    "\n",
    "    def __init__(self, pid:str, title:str):\n",
    "        self.pid=pid\n",
    "        self.title=title\n",
    "        self.__code=28346\n",
    "\n",
    "    def getCode(self):\n",
    "        return self.__code\n",
    "\n",
    "    def __repr__(self):\n",
    "        return f'Product(pid={self.pid}, title=\"{self.title}\")'\n"
   ]
  },
  {
   "cell_type": "code",
   "execution_count": null,
   "metadata": {},
   "outputs": [],
   "source": [
    "# Derived class or sub class\n",
    "class cloth(product):\n",
    "    pass"
   ]
  },
  {
   "cell_type": "code",
   "execution_count": 6,
   "metadata": {},
   "outputs": [],
   "source": [
    "# Derived class or sub class\n",
    "class cloth(product):\n",
    "    # Overrriding (Runtime polimurphisom)\n",
    "    def __init__(self, pid:str, title:str, category:str):\n",
    "        self.category = category\n",
    "        super().__init__(pid,title)"
   ]
  },
  {
   "cell_type": "code",
   "execution_count": 7,
   "metadata": {},
   "outputs": [
    {
     "ename": "TypeError",
     "evalue": "cloth.__init__() missing 1 required positional argument: 'category'",
     "output_type": "error",
     "traceback": [
      "\u001b[1;31m---------------------------------------------------------------------------\u001b[0m",
      "\u001b[1;31mTypeError\u001b[0m                                 Traceback (most recent call last)",
      "\u001b[1;32md:\\MY_DEVLOPMENT\\PYTHON\\HR_Venture\\pythone_code\\python_code22\\program_class_08.ipynb Cell 6'\u001b[0m in \u001b[0;36m<module>\u001b[1;34m\u001b[0m\n\u001b[1;32m----> <a href='vscode-notebook-cell:/d%3A/MY_DEVLOPMENT/PYTHON/HR_Venture/pythone_code/python_code22/program_class_08.ipynb#ch0000004?line=0'>1</a>\u001b[0m cloth(\u001b[39m2323\u001b[39;49m,\u001b[39m'\u001b[39;49m\u001b[39mT-Shart\u001b[39;49m\u001b[39m'\u001b[39;49m)\n\u001b[0;32m      <a href='vscode-notebook-cell:/d%3A/MY_DEVLOPMENT/PYTHON/HR_Venture/pythone_code/python_code22/program_class_08.ipynb#ch0000004?line=1'>2</a>\u001b[0m obj \u001b[39m=\u001b[39m cloth(\u001b[39m2323\u001b[39m,\u001b[39m'\u001b[39m\u001b[39mT-Shart\u001b[39m\u001b[39m'\u001b[39m)\n",
      "\u001b[1;31mTypeError\u001b[0m: cloth.__init__() missing 1 required positional argument: 'category'"
     ]
    }
   ],
   "source": [
    "cloth(2323,'T-Shart')\n",
    "obj = cloth(2323,'T-Shart')"
   ]
  },
  {
   "cell_type": "code",
   "execution_count": null,
   "metadata": {},
   "outputs": [],
   "source": [
    "obj.getCode()\n",
    "obj.category\n"
   ]
  },
  {
   "cell_type": "markdown",
   "metadata": {},
   "source": [
    "# Multilevel Inharitence"
   ]
  },
  {
   "cell_type": "code",
   "execution_count": null,
   "metadata": {},
   "outputs": [],
   "source": [
    "class TopWear(cloth):"
   ]
  },
  {
   "cell_type": "code",
   "execution_count": null,
   "metadata": {},
   "outputs": [],
   "source": []
  }
 ],
 "metadata": {
  "interpreter": {
   "hash": "63b2014fe923bc11fc1089a45e8d8d32d8530e11d1dfc98edf4ada9c05eba13b"
  },
  "kernelspec": {
   "display_name": "Python 3.10.2 64-bit",
   "language": "python",
   "name": "python3"
  },
  "language_info": {
   "codemirror_mode": {
    "name": "ipython",
    "version": 3
   },
   "file_extension": ".py",
   "mimetype": "text/x-python",
   "name": "python",
   "nbconvert_exporter": "python",
   "pygments_lexer": "ipython3",
   "version": "3.10.2"
  },
  "orig_nbformat": 4
 },
 "nbformat": 4,
 "nbformat_minor": 2
}
