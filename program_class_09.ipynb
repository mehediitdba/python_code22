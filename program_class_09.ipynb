{
 "cells": [
  {
   "cell_type": "markdown",
   "metadata": {},
   "source": [
    "# File Storage"
   ]
  },
  {
   "cell_type": "markdown",
   "metadata": {},
   "source": [
    "## wirte mode"
   ]
  },
  {
   "cell_type": "code",
   "execution_count": 3,
   "metadata": {},
   "outputs": [
    {
     "name": "stdout",
     "output_type": "stream",
     "text": [
      "True\n"
     ]
    }
   ],
   "source": [
    "f = open(\"file1.txt\", mode='w')\n",
    "print(f.writable())\n",
    "f.write(\"Line1\\n\")\n",
    "f.writelines([\"Line3\\n\",\"Line4\\n\",\"Line4\\n\",\"Line5\\n\"])\n",
    "f.close()"
   ]
  },
  {
   "cell_type": "markdown",
   "metadata": {},
   "source": [
    "## appand mode"
   ]
  },
  {
   "cell_type": "code",
   "execution_count": 4,
   "metadata": {},
   "outputs": [
    {
     "name": "stdout",
     "output_type": "stream",
     "text": [
      "True\n"
     ]
    }
   ],
   "source": [
    "f = open(\"file1.txt\", mode='a')\n",
    "print(f.writable())\n",
    "f.write(\"Line1\\n\")\n",
    "f.writelines([\"Line3\\n\",\"Line4\\n\",\"Line4\\n\",\"Line5\\n\"])\n",
    "f.close()"
   ]
  },
  {
   "cell_type": "markdown",
   "metadata": {},
   "source": [
    "## right"
   ]
  },
  {
   "cell_type": "code",
   "execution_count": 8,
   "metadata": {},
   "outputs": [
    {
     "name": "stdout",
     "output_type": "stream",
     "text": [
      "False\n",
      "Line1\n",
      "Line3\n",
      "Line4\n",
      "Line4\n",
      "Line5\n",
      "Line1\n",
      "Line3\n",
      "Line4\n",
      "Line4\n",
      "Line5\n",
      "\n"
     ]
    }
   ],
   "source": [
    "f = open(\"file1.txt\", mode='r')\n",
    "print(f.writable())\n",
    "print(f.read())\n",
    "f.close()"
   ]
  },
  {
   "cell_type": "markdown",
   "metadata": {},
   "source": [
    "## exclusive mode"
   ]
  },
  {
   "cell_type": "code",
   "execution_count": 14,
   "metadata": {},
   "outputs": [],
   "source": [
    "f = open(\"file3.txt\", mode='x')\n",
    "f.write(\"exclusive mode\")\n",
    "f.close()"
   ]
  },
  {
   "cell_type": "markdown",
   "metadata": {},
   "source": [
    "## read write"
   ]
  },
  {
   "cell_type": "code",
   "execution_count": 16,
   "metadata": {},
   "outputs": [
    {
     "name": "stdout",
     "output_type": "stream",
     "text": [
      "exclusive mode\n"
     ]
    }
   ],
   "source": [
    "f = open(\"file3.txt\", mode='r+')\n",
    "print(f.read())\n",
    "f.write(\"exclusive mode\")\n",
    "f.close()"
   ]
  },
  {
   "cell_type": "markdown",
   "metadata": {},
   "source": [
    "## read binary"
   ]
  },
  {
   "cell_type": "code",
   "execution_count": 17,
   "metadata": {},
   "outputs": [
    {
     "name": "stdout",
     "output_type": "stream",
     "text": [
      "b'exclusive modeexclusive mode'\n"
     ]
    }
   ],
   "source": [
    "f = open(\"file3.txt\", mode='rb')\n",
    "print(f.read())\n",
    "f.close()"
   ]
  },
  {
   "cell_type": "markdown",
   "metadata": {},
   "source": [
    "# file session"
   ]
  },
  {
   "cell_type": "code",
   "execution_count": 23,
   "metadata": {},
   "outputs": [
    {
     "name": "stdout",
     "output_type": "stream",
     "text": [
      "exclusive modeexclusive mode\n"
     ]
    }
   ],
   "source": [
    "with open(\"file3.txt\", mode='r+') as f:\n",
    "    print(f.read())\n",
    "    f.write(\"abc\")"
   ]
  },
  {
   "cell_type": "code",
   "execution_count": 25,
   "metadata": {},
   "outputs": [
    {
     "name": "stdout",
     "output_type": "stream",
     "text": [
      "<folderAccess>\n",
      "\t\t<write>G:\\reports_pdf;G:\\reports_pdf\\*</write>\n",
      "</folderAccess>\n"
     ]
    }
   ],
   "source": [
    "with open(r\"E:\\12c_for_Office_windows\\Server\\fonder_access.txt\", mode='r+') as f:\n",
    "    print(f.read())\n",
    "    f.write(\"abc\")"
   ]
  },
  {
   "cell_type": "markdown",
   "metadata": {},
   "source": [
    "# Folders"
   ]
  },
  {
   "cell_type": "code",
   "execution_count": null,
   "metadata": {},
   "outputs": [],
   "source": [
    "import os\n"
   ]
  },
  {
   "cell_type": "code",
   "execution_count": 31,
   "metadata": {},
   "outputs": [
    {
     "ename": "FileExistsError",
     "evalue": "[WinError 183] Cannot create a file when that file already exists: 'Folder1'",
     "output_type": "error",
     "traceback": [
      "\u001b[1;31m---------------------------------------------------------------------------\u001b[0m",
      "\u001b[1;31mFileExistsError\u001b[0m                           Traceback (most recent call last)",
      "\u001b[1;32md:\\MY_DEVLOPMENT\\PYTHON\\HR_Venture\\pythone_code\\python_code22\\program_class_09.ipynb Cell 19'\u001b[0m in \u001b[0;36m<module>\u001b[1;34m\u001b[0m\n\u001b[0;32m      <a href='vscode-notebook-cell:/d%3A/MY_DEVLOPMENT/PYTHON/HR_Venture/pythone_code/python_code22/program_class_09.ipynb#ch0000019?line=0'>1</a>\u001b[0m os\u001b[39m.\u001b[39mgetcwd() \u001b[39m# current path\u001b[39;00m\n\u001b[1;32m----> <a href='vscode-notebook-cell:/d%3A/MY_DEVLOPMENT/PYTHON/HR_Venture/pythone_code/python_code22/program_class_09.ipynb#ch0000019?line=1'>2</a>\u001b[0m os\u001b[39m.\u001b[39;49mmkdir(\u001b[39m\"\u001b[39;49m\u001b[39mFolder1\u001b[39;49m\u001b[39m\"\u001b[39;49m)\n",
      "\u001b[1;31mFileExistsError\u001b[0m: [WinError 183] Cannot create a file when that file already exists: 'Folder1'"
     ]
    }
   ],
   "source": [
    "os.getcwd() # current path\n",
    "os.mkdir(\"Folder1\") #create a folder\n",
    "\n",
    "\n",
    "\n",
    "\n"
   ]
  },
  {
   "cell_type": "code",
   "execution_count": 33,
   "metadata": {},
   "outputs": [],
   "source": [
    "os.makedirs(\"Folder1\\Foldere2.1\") #create a multiple folder"
   ]
  },
  {
   "cell_type": "markdown",
   "metadata": {},
   "source": [
    "# rename"
   ]
  },
  {
   "cell_type": "code",
   "execution_count": 34,
   "metadata": {},
   "outputs": [],
   "source": [
    "os.rename(\"file2.txt\", \"file4.txt\")"
   ]
  },
  {
   "cell_type": "code",
   "execution_count": 35,
   "metadata": {},
   "outputs": [],
   "source": [
    "os.rename(\"Folder1\\Foldere2.1\",\"Folder1\\Foldere2.2\")"
   ]
  },
  {
   "cell_type": "markdown",
   "metadata": {},
   "source": [
    "## remove\n"
   ]
  },
  {
   "cell_type": "code",
   "execution_count": 36,
   "metadata": {},
   "outputs": [],
   "source": [
    "os.remove(\"file1.txt\")"
   ]
  },
  {
   "cell_type": "code",
   "execution_count": 38,
   "metadata": {},
   "outputs": [],
   "source": [
    "os.removedirs(\"Folder1\\Foldere2.2\")"
   ]
  },
  {
   "cell_type": "markdown",
   "metadata": {},
   "source": [
    "# getting info"
   ]
  },
  {
   "cell_type": "code",
   "execution_count": 39,
   "metadata": {},
   "outputs": [
    {
     "data": {
      "text/plain": [
       "'d:\\\\MY_DEVLOPMENT\\\\PYTHON\\\\HR_Venture\\\\pythone_code\\\\python_code22'"
      ]
     },
     "execution_count": 39,
     "metadata": {},
     "output_type": "execute_result"
    }
   ],
   "source": [
    "os.getcwd()"
   ]
  },
  {
   "cell_type": "code",
   "execution_count": 40,
   "metadata": {},
   "outputs": [
    {
     "ename": "FileNotFoundError",
     "evalue": "[WinError 2] The system cannot find the file specified: 'Folder2'",
     "output_type": "error",
     "traceback": [
      "\u001b[1;31m---------------------------------------------------------------------------\u001b[0m",
      "\u001b[1;31mFileNotFoundError\u001b[0m                         Traceback (most recent call last)",
      "\u001b[1;32md:\\MY_DEVLOPMENT\\PYTHON\\HR_Venture\\pythone_code\\python_code22\\program_class_09.ipynb Cell 29'\u001b[0m in \u001b[0;36m<module>\u001b[1;34m\u001b[0m\n\u001b[1;32m----> <a href='vscode-notebook-cell:/d%3A/MY_DEVLOPMENT/PYTHON/HR_Venture/pythone_code/python_code22/program_class_09.ipynb#ch0000031?line=0'>1</a>\u001b[0m os\u001b[39m.\u001b[39;49mchdir(\u001b[39m\"\u001b[39;49m\u001b[39mFolder2\u001b[39;49m\u001b[39m\"\u001b[39;49m)\n",
      "\u001b[1;31mFileNotFoundError\u001b[0m: [WinError 2] The system cannot find the file specified: 'Folder2'"
     ]
    }
   ],
   "source": [
    "os.chdir(\"Folder2\")"
   ]
  },
  {
   "cell_type": "code",
   "execution_count": 41,
   "metadata": {},
   "outputs": [
    {
     "data": {
      "text/plain": [
       "['.git',\n",
       " 'assignment_hr_venture',\n",
       " 'file3.txt',\n",
       " 'file4.txt',\n",
       " 'practice_hr_venture',\n",
       " 'program_class_01.py',\n",
       " 'program_class_02.ipynb',\n",
       " 'program_class_03.ipynb',\n",
       " 'program_class_04.ipynb',\n",
       " 'program_class_05.ipynb',\n",
       " 'program_class_06.ipynb',\n",
       " 'program_class_07.ipynb',\n",
       " 'program_class_08.ipynb',\n",
       " 'program_class_09.ipynb',\n",
       " 'README.md',\n",
       " 'udemy_course_01']"
      ]
     },
     "execution_count": 41,
     "metadata": {},
     "output_type": "execute_result"
    }
   ],
   "source": [
    "os.listdir()"
   ]
  },
  {
   "cell_type": "code",
   "execution_count": 45,
   "metadata": {},
   "outputs": [
    {
     "name": "stdout",
     "output_type": "stream",
     "text": [
      ". || ['.git', 'assignment_hr_venture', 'practice_hr_venture', 'udemy_course_01'] || ['file3.txt', 'file4.txt', 'program_class_01.py', 'program_class_02.ipynb', 'program_class_03.ipynb', 'program_class_04.ipynb', 'program_class_05.ipynb', 'program_class_06.ipynb', 'program_class_07.ipynb', 'program_class_08.ipynb', 'program_class_09.ipynb', 'README.md']\n",
      ".\\.git || ['fsmonitor--daemon', 'hooks', 'info', 'logs', 'objects', 'refs'] || ['COMMIT_EDITMSG', 'config', 'description', 'FETCH_HEAD', 'HEAD', 'index', 'ORIG_HEAD', 'packed-refs']\n",
      ".\\.git\\fsmonitor--daemon || ['cookies'] || []\n",
      ".\\.git\\fsmonitor--daemon\\cookies || [] || []\n",
      ".\\.git\\hooks || [] || ['applypatch-msg.sample', 'commit-msg.sample', 'fsmonitor-watchman.sample', 'post-update.sample', 'pre-applypatch.sample', 'pre-commit.sample', 'pre-merge-commit.sample', 'pre-push.sample', 'pre-rebase.sample', 'pre-receive.sample', 'prepare-commit-msg.sample', 'push-to-checkout.sample', 'update.sample']\n",
      ".\\.git\\info || [] || ['exclude']\n",
      ".\\.git\\logs || ['refs'] || ['HEAD']\n",
      ".\\.git\\logs\\refs || ['heads', 'remotes'] || []\n",
      ".\\.git\\logs\\refs\\heads || [] || ['main']\n",
      ".\\.git\\logs\\refs\\remotes || ['origin'] || []\n",
      ".\\.git\\logs\\refs\\remotes\\origin || [] || ['HEAD', 'main']\n",
      ".\\.git\\objects || ['01', '07', '08', '09', '0b', '16', '1a', '1b', '1c', '1f', '20', '22', '25', '28', '29', '2b', '2d', '31', '32', '33', '37', '38', '3a', '3c', '3f', '40', '44', '45', '47', '49', '4f', '51', '53', '54', '5d', '5e', '60', '68', '6c', '6e', '74', '76', '79', '7c', '7d', '7e', '7f', '80', '82', '86', '8b', '8c', '8f', '9b', '9d', '9f', 'a0', 'a9', 'ac', 'ae', 'b0', 'b2', 'be', 'c4', 'c5', 'c7', 'd0', 'd1', 'd3', 'd5', 'd6', 'd7', 'dd', 'e3', 'e5', 'e6', 'eb', 'ef', 'f1', 'f3', 'f4', 'f9', 'info', 'pack'] || []\n",
      ".\\.git\\objects\\01 || [] || ['44f73993a735cca8585df3d2db68ab59224fa0']\n",
      ".\\.git\\objects\\07 || [] || ['7ef80278234d0e417d01e9d0a1cd7cc2cd2074']\n",
      ".\\.git\\objects\\08 || [] || ['1a674cd7e4d0a3e928af103419f6771cf3ec63']\n",
      ".\\.git\\objects\\09 || [] || ['9bdc8b6a9d3b82823ea1e3578a83cb8d6de9fb']\n",
      ".\\.git\\objects\\0b || [] || ['35e429d7b7af671e69ab83692e122fc98807b4']\n",
      ".\\.git\\objects\\16 || [] || ['ad636a642f00e979678056ee798ce0d5bb95ba']\n",
      ".\\.git\\objects\\1a || [] || ['4fa9079bea83ec2e700488be6c592dcc877fe6']\n",
      ".\\.git\\objects\\1b || [] || ['3a731391c5a5ed7a441f6e4636ce1f4a0f2978', 'dcbd8a8a8d9a65e98cabc269c27b7eaed25bc3']\n",
      ".\\.git\\objects\\1c || [] || ['c3dc970d1a24210d0031ef7c916e1029c6e21d']\n",
      ".\\.git\\objects\\1f || [] || ['117e06cfc7b24bc84d9f4ba77ff2600767ba78']\n",
      ".\\.git\\objects\\20 || [] || ['4e921c1c8b8d3667d3c35be6e0dab117fed939']\n",
      ".\\.git\\objects\\22 || [] || ['41cf3cf222a7c6b259a98f8053c22f952d1464']\n",
      ".\\.git\\objects\\25 || [] || ['d1007046f143746cc6687bf2357a880500c82c']\n",
      ".\\.git\\objects\\28 || [] || ['7abc99477dbe094e53ef526ea34cd25319f773', 'd163f8c71cc260af45b60587217750a16de46d']\n",
      ".\\.git\\objects\\29 || [] || ['f6684aa084cb9c6c08166ce01466848ef2f220']\n",
      ".\\.git\\objects\\2b || [] || ['81d0680a435091b5182afd52ebdbfe5ce8c48e', 'b8398f6a24d8ac79105cad5b52ed2aa28f2c9e']\n",
      ".\\.git\\objects\\2d || [] || ['b96c57e0cac48b3fd1503c8cf50aa10e895aae']\n",
      ".\\.git\\objects\\31 || [] || ['a05b532ef71baad390dc9b702d49733aa44b19']\n",
      ".\\.git\\objects\\32 || [] || ['944d161dbff716ec214125f5b5ccc149846087']\n",
      ".\\.git\\objects\\33 || [] || ['2a5a2604049666576a3e97a3fe9b62168ee739']\n",
      ".\\.git\\objects\\37 || [] || ['dc08b59267abe239ea03d733d51183728a5f56']\n",
      ".\\.git\\objects\\38 || [] || ['b6c9d5acfb333353ce597a4184d8a9c7a6422d']\n",
      ".\\.git\\objects\\3a || [] || ['fc61ba051e237739d60c0025e47916f513ab2b']\n",
      ".\\.git\\objects\\3c || [] || ['2fad515f0ececb5e50e75afbc7038fae1ace81', 'e3fe757033e684172c697702fbbe936a00e8ef']\n",
      ".\\.git\\objects\\3f || [] || ['43bb7b195fabf8d4521dc25f175847bea66fee', '4b67a25d2c12bda183c43be1d6bbf402880acd']\n",
      ".\\.git\\objects\\40 || [] || ['165f596fc80f50d893965a288a4281a7194977']\n",
      ".\\.git\\objects\\44 || [] || ['c3c8a84f32cc2bad604a4d62b074bfc872f513']\n",
      ".\\.git\\objects\\45 || [] || ['5e475266b00b1000c0eed0ca0cb207f91b3ad2']\n",
      ".\\.git\\objects\\47 || [] || ['3949f1b206e94901eb2698a77d90d6924ca337']\n",
      ".\\.git\\objects\\49 || [] || ['4ec738a8d40dde44836a3eed7715b076726bf1', 'b98ce5ad89fb7e97b3f00d60e096eea316327e']\n",
      ".\\.git\\objects\\4f || [] || ['1d831ef3354b6bafa22546f9b1c119c7c56cd3', '939f4df521d41a84f65fd32f3d5957f1fbb6da']\n",
      ".\\.git\\objects\\51 || [] || ['194cc0e4e854be66a2d558980055d6dc3e072a']\n",
      ".\\.git\\objects\\53 || [] || ['6654cc08d82299821a5ca4355cc4fe5fc5c9e4']\n",
      ".\\.git\\objects\\54 || [] || ['793224083dd2c90466ab526ae326a7fa0fa1f8']\n",
      ".\\.git\\objects\\5d || [] || ['493e88e7c577330dd2e83fecc41f88bc842b71']\n",
      ".\\.git\\objects\\5e || [] || ['b4dd5dff1171df12e8719bf3fb461590cccb40']\n",
      ".\\.git\\objects\\60 || [] || ['39b8b1d2082188391f11da7e2019c3400e824c']\n",
      ".\\.git\\objects\\68 || [] || ['f52eb6beb97e0b17d17c3576ba252968ff8612']\n",
      ".\\.git\\objects\\6c || [] || ['5a03a0a609a24c35202a329dd06bbcbdf75de5']\n",
      ".\\.git\\objects\\6e || [] || ['e4fdae7109241f5832b2814e4d5088f083ac64']\n",
      ".\\.git\\objects\\74 || [] || ['1eaf68e13892bc5c2759d821646c82ba60577d']\n",
      ".\\.git\\objects\\76 || [] || ['e4e1eddf070fdc6ebb66f5239a97a5a24fcd00', 'fb24973ad71e3ae0e4578b08d27e7c0b445640']\n",
      ".\\.git\\objects\\79 || [] || ['1ebb211f06a8f25169e69b8a8fa769ecc0569e']\n",
      ".\\.git\\objects\\7c || [] || ['0dd57960518c8509d050f737073d223943aad9']\n",
      ".\\.git\\objects\\7d || [] || ['3744aafe5c3b5cbfa4fa88b7731664e01c6a5c', '7dcd1fa2deac8d6dd388d9c3fe729c5c7d51ec']\n",
      ".\\.git\\objects\\7e || [] || ['0459724dd436818eef75790ddc101d20691937']\n",
      ".\\.git\\objects\\7f || [] || ['53ffd97888fd777c841387afbd851b6f16c908']\n",
      ".\\.git\\objects\\80 || [] || ['5f40f4b120e68d0bc145cf6eedd25fd84d627e']\n",
      ".\\.git\\objects\\82 || [] || ['3a63b67615ae556b5234cd49d8f940c5f869e7']\n",
      ".\\.git\\objects\\86 || [] || ['2e7b00abb9688b89b04a04d759cac6ea485f19']\n",
      ".\\.git\\objects\\8b || [] || ['e0f918d5128d9b0706a612ecb3b46bf00801bd', 'fd689d5f35793d4bafd45819c896631cdc9004']\n",
      ".\\.git\\objects\\8c || [] || ['39b4f9256449455c8f5d98e87e7c384d6be837']\n",
      ".\\.git\\objects\\8f || [] || ['a460cd8c7cc0a7d4237c1d44acf5e2c44d3483']\n",
      ".\\.git\\objects\\9b || [] || ['e3b4dc43b6cf78ffe57b646f1e13549145b008']\n",
      ".\\.git\\objects\\9d || [] || ['cc7c68f44340d876904ef3a5fba9f4e8e1d515']\n",
      ".\\.git\\objects\\9f || [] || ['50aa8f193061f9b8d472a872883a57a2ef27ce']\n",
      ".\\.git\\objects\\a0 || [] || ['cb846f91709aa7c211b94564e8808b53b8fdcb']\n",
      ".\\.git\\objects\\a9 || [] || ['13238d5aa70b3a7b5b18832f263cdbad2372da']\n",
      ".\\.git\\objects\\ac || [] || ['e418c75575c3f1161e7df4ba7efccdc2a2a9b1']\n",
      ".\\.git\\objects\\ae || [] || ['6f20b8fb6d2a32eeb4d3711617f0839dd8a765']\n",
      ".\\.git\\objects\\b0 || [] || ['7555437865e43bfb87afd8d296a8277d25a4dc']\n",
      ".\\.git\\objects\\b2 || [] || ['4d1165df848b583b6b5b5453537acb49a2ee0b']\n",
      ".\\.git\\objects\\be || [] || ['8408de819bddc82f6741e4c283802e95dc3e17']\n",
      ".\\.git\\objects\\c4 || [] || ['6763441107837aa148916f3c2048822be335db']\n",
      ".\\.git\\objects\\c5 || [] || ['5b0ac995671aa09427697e63c57571953aecb6']\n",
      ".\\.git\\objects\\c7 || [] || ['b57c1803334787cd45025f62cbb7ea8e82fb8f']\n",
      ".\\.git\\objects\\d0 || [] || ['0d8bb0ea70aec5dda1b98ac1c45b997445a243']\n",
      ".\\.git\\objects\\d1 || [] || ['8dca18eabe24c94016490c2ee7143f44f1e1ac']\n",
      ".\\.git\\objects\\d3 || [] || ['c3e71f2d3ea8b3f614bb9aec0a67260c97b756']\n",
      ".\\.git\\objects\\d5 || [] || ['c3811021a8e99a37a1b0566b6349e5c1d490c5']\n",
      ".\\.git\\objects\\d6 || [] || ['1b37a394e89b16510b2c3bed5056072cde230a', '3bdcfb207393f5b461b4ef70aef9aeeaa6a811']\n",
      ".\\.git\\objects\\d7 || [] || ['42aa4a089351c5e6bccb4eb5635917dd4a075d']\n",
      ".\\.git\\objects\\dd || [] || ['1cf583b0c7f5892f98d4ed94823bde5c6fdae1', 'cc4f3af36d17cb4102ef85663fd0ba01c8cdc7']\n",
      ".\\.git\\objects\\e3 || [] || ['7572b895b57d2d99f8d3d5d48552cf149d8892']\n",
      ".\\.git\\objects\\e5 || [] || ['5c7bb9974109324564e1493ffb91edab7af2f8', '9092aa3b6e8345ca182a944b08fdf4a7298971', 'de0a37143475d35438d9265a025c8c9f4f9e18']\n",
      ".\\.git\\objects\\e6 || [] || ['9de29bb2d1d6434b8b29ae775ad8c2e48c5391']\n",
      ".\\.git\\objects\\eb || [] || ['40cfeb6cee509901dcc99a3af0a362f36b0561']\n",
      ".\\.git\\objects\\ef || [] || ['9a03a8f959d36c0159e95ac4c2e3f26e7bfdf7', 'a85cea4a92018a78c9f66797d93fbec5140a38']\n",
      ".\\.git\\objects\\f1 || [] || ['0e8304981a6947738a7313fe4f05bd5436947e', '7fdce26f03d17fb7204a899f0b2fe58dedcd4d']\n",
      ".\\.git\\objects\\f3 || [] || ['a16feb3c1e8188f2552e989619e50357cdd79a']\n",
      ".\\.git\\objects\\f4 || [] || ['e8ba4a1d54939917246e4a04d5f8ff84d35811']\n",
      ".\\.git\\objects\\f9 || [] || ['7a47d4d6dd3bf576e16d58f4a3205951f54ebf', '8edd60b3eabf94dbcb5c321e82b55cb6e68ca9']\n",
      ".\\.git\\objects\\info || [] || []\n",
      ".\\.git\\objects\\pack || [] || ['pack-21bd76ba41e188d0f4b590aa058facd2b69e9c8f.idx', 'pack-21bd76ba41e188d0f4b590aa058facd2b69e9c8f.pack']\n",
      ".\\.git\\refs || ['heads', 'remotes', 'tags'] || []\n",
      ".\\.git\\refs\\heads || [] || ['main']\n",
      ".\\.git\\refs\\remotes || ['origin'] || []\n",
      ".\\.git\\refs\\remotes\\origin || [] || ['HEAD', 'main']\n",
      ".\\.git\\refs\\tags || [] || []\n",
      ".\\assignment_hr_venture || [] || ['assignment1.ipynb', 'assignment2.ipynb']\n",
      ".\\practice_hr_venture || [] || ['practice_class2.ipynb', 'practice_class3.ipynb', 'practive_class1.ipynb']\n",
      ".\\udemy_course_01 || [] || ['example.txt', 'udemy_tutorial_01.ipynb', 'udemy_tutorial_02.ipynb', 'udemy_tutorial_03.ipynb', 'udemy_tutorial_04.ipynb', 'udemy_tutorial_05.ipynb', 'udemy_tutorial_06.ipynb', 'udemy_tutorial_07.ipynb', 'udemy_tutorial_08.ipynb', 'udemy_tutorial_09.ipynb', 'udemy_tutorial_10.ipynb', 'udemy_tutorial_11.ipynb', 'udemy_tutorial_12.ipynb', 'udemy_tutorial_13.ipynb', 'udemy_tutorial_14.ipynb', 'udemy_tutorial_15.ipynb', 'udemy_tutorial_16.ipynb', 'udemy_tutorial_17.ipynb', 'udemy_tutorial_18.ipynb', 'udemy_tutorial_19.ipynb', 'udemy_tutorial_20.ipynb', 'udemy_tutorial_21.ipynb', 'udemy_tutorial_22.ipynb', 'udemy_tutorial_23.ipynb']\n"
     ]
    }
   ],
   "source": [
    "for p, d, f in os.walk('.'):\n",
    "    print(p,\"||\", d,\"||\",f)"
   ]
  },
  {
   "cell_type": "markdown",
   "metadata": {},
   "source": [
    "# datetime"
   ]
  },
  {
   "cell_type": "code",
   "execution_count": 46,
   "metadata": {},
   "outputs": [],
   "source": [
    "import datetime"
   ]
  },
  {
   "cell_type": "code",
   "execution_count": 54,
   "metadata": {},
   "outputs": [
    {
     "data": {
      "text/plain": [
       "2022"
      ]
     },
     "execution_count": 54,
     "metadata": {},
     "output_type": "execute_result"
    }
   ],
   "source": [
    "today = datetime.date.today()\n",
    "today\n",
    "today.day\n",
    "today.month\n",
    "today.year"
   ]
  },
  {
   "cell_type": "code",
   "execution_count": 68,
   "metadata": {},
   "outputs": [
    {
     "data": {
      "text/plain": [
       "23"
      ]
     },
     "execution_count": 68,
     "metadata": {},
     "output_type": "execute_result"
    }
   ],
   "source": [
    "## custome date\n",
    "cdate = datetime.date(2023, 9, 23)\n",
    "cdate\n",
    "cdate.day"
   ]
  },
  {
   "cell_type": "code",
   "execution_count": 69,
   "metadata": {},
   "outputs": [
    {
     "data": {
      "text/plain": [
       "530992"
      ]
     },
     "execution_count": 69,
     "metadata": {},
     "output_type": "execute_result"
    }
   ],
   "source": [
    "# datetime timestamp\n",
    "time = datetime.datetime.now()\n",
    "time\n",
    "time.day\n",
    "time.second\n",
    "time.microsecond"
   ]
  },
  {
   "cell_type": "code",
   "execution_count": 73,
   "metadata": {},
   "outputs": [
    {
     "data": {
      "text/plain": [
       "datetime.datetime(2022, 3, 29, 22, 58, 23, 136976)"
      ]
     },
     "execution_count": 73,
     "metadata": {},
     "output_type": "execute_result"
    }
   ],
   "source": [
    "# custom timestamp\n",
    "ctime= datetime.datetime(2022, 3, 29, 22, 58, 23, 136976)\n",
    "ctime"
   ]
  },
  {
   "cell_type": "code",
   "execution_count": 74,
   "metadata": {},
   "outputs": [
    {
     "data": {
      "text/plain": [
       "datetime.datetime(2022, 3, 29, 22, 58, 23, 136976)"
      ]
     },
     "execution_count": 74,
     "metadata": {},
     "output_type": "execute_result"
    }
   ],
   "source": [
    "# timedelta\n",
    "time"
   ]
  },
  {
   "cell_type": "code",
   "execution_count": 78,
   "metadata": {},
   "outputs": [
    {
     "data": {
      "text/plain": [
       "datetime.datetime(2022, 7, 24, 12, 32, 23, 136976)"
      ]
     },
     "execution_count": 78,
     "metadata": {},
     "output_type": "execute_result"
    }
   ],
   "source": [
    "time + datetime.timedelta(weeks=16, days=4, hours=13, minutes=34)"
   ]
  },
  {
   "cell_type": "code",
   "execution_count": 79,
   "metadata": {},
   "outputs": [
    {
     "data": {
      "text/plain": [
       "datetime.datetime(2021, 12, 3, 9, 24, 23, 136976)"
      ]
     },
     "execution_count": 79,
     "metadata": {},
     "output_type": "execute_result"
    }
   ],
   "source": [
    "time - datetime.timedelta(weeks=16, days=4, hours=13, minutes=34)"
   ]
  },
  {
   "cell_type": "markdown",
   "metadata": {},
   "source": [
    "# timestamp timezoon"
   ]
  },
  {
   "cell_type": "code",
   "execution_count": 83,
   "metadata": {},
   "outputs": [
    {
     "data": {
      "text/plain": [
       "datetime.datetime(1970, 1, 1, 6, 11, 39)"
      ]
     },
     "execution_count": 83,
     "metadata": {},
     "output_type": "execute_result"
    }
   ],
   "source": [
    "datetime.datetime.fromtimestamp(699)"
   ]
  },
  {
   "cell_type": "markdown",
   "metadata": {},
   "source": [
    "## formatting"
   ]
  },
  {
   "cell_type": "code",
   "execution_count": 85,
   "metadata": {},
   "outputs": [
    {
     "data": {
      "text/plain": [
       "'29/03/22 22:58:23:136976'"
      ]
     },
     "execution_count": 85,
     "metadata": {},
     "output_type": "execute_result"
    }
   ],
   "source": [
    "time.strftime(\"%d/%m/%y %H:%M:%S:%f\")"
   ]
  },
  {
   "cell_type": "code",
   "execution_count": 86,
   "metadata": {},
   "outputs": [
    {
     "data": {
      "text/plain": [
       "'29/03/22 10:58:23:136976'"
      ]
     },
     "execution_count": 86,
     "metadata": {},
     "output_type": "execute_result"
    }
   ],
   "source": [
    "time.strftime(\"%d/%m/%y %I:%M:%S:%f\")"
   ]
  },
  {
   "cell_type": "code",
   "execution_count": 87,
   "metadata": {},
   "outputs": [
    {
     "data": {
      "text/plain": [
       "'03/29/22 10:58:23:136976'"
      ]
     },
     "execution_count": 87,
     "metadata": {},
     "output_type": "execute_result"
    }
   ],
   "source": [
    "time.strftime(\"%m/%d/%y %I:%M:%S:%f\")"
   ]
  },
  {
   "cell_type": "code",
   "execution_count": 91,
   "metadata": {},
   "outputs": [
    {
     "data": {
      "text/plain": [
       "'Tuesday/March/2022 10:58:23:136976'"
      ]
     },
     "execution_count": 91,
     "metadata": {},
     "output_type": "execute_result"
    }
   ],
   "source": [
    "time.strftime(\"%A/%B/%Y %I:%M:%S:%f\")"
   ]
  },
  {
   "cell_type": "code",
   "execution_count": 92,
   "metadata": {},
   "outputs": [
    {
     "data": {
      "text/plain": [
       "'Tue/Mar/22 10:58:23:136976'"
      ]
     },
     "execution_count": 92,
     "metadata": {},
     "output_type": "execute_result"
    }
   ],
   "source": [
    "time.strftime(\"%a/%b/%y %I:%M:%S:%f\")"
   ]
  },
  {
   "cell_type": "code",
   "execution_count": 94,
   "metadata": {},
   "outputs": [
    {
     "ename": "ValueError",
     "evalue": "time data 'Tue/Mar/22 10:58:23:136976' does not match format '%A/%B/%Y %I:%M:%S:%f'",
     "output_type": "error",
     "traceback": [
      "\u001b[1;31m---------------------------------------------------------------------------\u001b[0m",
      "\u001b[1;31mValueError\u001b[0m                                Traceback (most recent call last)",
      "\u001b[1;32md:\\MY_DEVLOPMENT\\PYTHON\\HR_Venture\\pythone_code\\python_code22\\program_class_09.ipynb Cell 49'\u001b[0m in \u001b[0;36m<module>\u001b[1;34m\u001b[0m\n\u001b[1;32m----> <a href='vscode-notebook-cell:/d%3A/MY_DEVLOPMENT/PYTHON/HR_Venture/pythone_code/python_code22/program_class_09.ipynb#ch0000053?line=0'>1</a>\u001b[0m datetime\u001b[39m.\u001b[39;49mdatetime\u001b[39m.\u001b[39;49mstrptime(\u001b[39m'\u001b[39;49m\u001b[39mTue/Mar/22 10:58:23:136976\u001b[39;49m\u001b[39m'\u001b[39;49m,\u001b[39m\"\u001b[39;49m\u001b[39m%\u001b[39;49m\u001b[39mA/\u001b[39;49m\u001b[39m%\u001b[39;49m\u001b[39mB/\u001b[39;49m\u001b[39m%\u001b[39;49m\u001b[39mY \u001b[39;49m\u001b[39m%\u001b[39;49m\u001b[39mI:\u001b[39;49m\u001b[39m%\u001b[39;49m\u001b[39mM:\u001b[39;49m\u001b[39m%\u001b[39;49m\u001b[39mS:\u001b[39;49m\u001b[39m%f\u001b[39;49;00m\u001b[39m\"\u001b[39;49m)\n",
      "File \u001b[1;32mC:\\python310\\lib\\_strptime.py:568\u001b[0m, in \u001b[0;36m_strptime_datetime\u001b[1;34m(cls, data_string, format)\u001b[0m\n\u001b[0;32m    <a href='file:///c%3A/python310/lib/_strptime.py?line=564'>565</a>\u001b[0m \u001b[39mdef\u001b[39;00m \u001b[39m_strptime_datetime\u001b[39m(\u001b[39mcls\u001b[39m, data_string, \u001b[39mformat\u001b[39m\u001b[39m=\u001b[39m\u001b[39m\"\u001b[39m\u001b[39m%a\u001b[39;00m\u001b[39m \u001b[39m\u001b[39m%\u001b[39m\u001b[39mb \u001b[39m\u001b[39m%d\u001b[39;00m\u001b[39m \u001b[39m\u001b[39m%\u001b[39m\u001b[39mH:\u001b[39m\u001b[39m%\u001b[39m\u001b[39mM:\u001b[39m\u001b[39m%\u001b[39m\u001b[39mS \u001b[39m\u001b[39m%\u001b[39m\u001b[39mY\u001b[39m\u001b[39m\"\u001b[39m):\n\u001b[0;32m    <a href='file:///c%3A/python310/lib/_strptime.py?line=565'>566</a>\u001b[0m     \u001b[39m\"\"\"Return a class cls instance based on the input string and the\u001b[39;00m\n\u001b[0;32m    <a href='file:///c%3A/python310/lib/_strptime.py?line=566'>567</a>\u001b[0m \u001b[39m    format string.\"\"\"\u001b[39;00m\n\u001b[1;32m--> <a href='file:///c%3A/python310/lib/_strptime.py?line=567'>568</a>\u001b[0m     tt, fraction, gmtoff_fraction \u001b[39m=\u001b[39m _strptime(data_string, \u001b[39mformat\u001b[39;49m)\n\u001b[0;32m    <a href='file:///c%3A/python310/lib/_strptime.py?line=568'>569</a>\u001b[0m     tzname, gmtoff \u001b[39m=\u001b[39m tt[\u001b[39m-\u001b[39m\u001b[39m2\u001b[39m:]\n\u001b[0;32m    <a href='file:///c%3A/python310/lib/_strptime.py?line=569'>570</a>\u001b[0m     args \u001b[39m=\u001b[39m tt[:\u001b[39m6\u001b[39m] \u001b[39m+\u001b[39m (fraction,)\n",
      "File \u001b[1;32mC:\\python310\\lib\\_strptime.py:349\u001b[0m, in \u001b[0;36m_strptime\u001b[1;34m(data_string, format)\u001b[0m\n\u001b[0;32m    <a href='file:///c%3A/python310/lib/_strptime.py?line=346'>347</a>\u001b[0m found \u001b[39m=\u001b[39m format_regex\u001b[39m.\u001b[39mmatch(data_string)\n\u001b[0;32m    <a href='file:///c%3A/python310/lib/_strptime.py?line=347'>348</a>\u001b[0m \u001b[39mif\u001b[39;00m \u001b[39mnot\u001b[39;00m found:\n\u001b[1;32m--> <a href='file:///c%3A/python310/lib/_strptime.py?line=348'>349</a>\u001b[0m     \u001b[39mraise\u001b[39;00m \u001b[39mValueError\u001b[39;00m(\u001b[39m\"\u001b[39m\u001b[39mtime data \u001b[39m\u001b[39m%r\u001b[39;00m\u001b[39m does not match format \u001b[39m\u001b[39m%r\u001b[39;00m\u001b[39m\"\u001b[39m \u001b[39m%\u001b[39m\n\u001b[0;32m    <a href='file:///c%3A/python310/lib/_strptime.py?line=349'>350</a>\u001b[0m                      (data_string, \u001b[39mformat\u001b[39m))\n\u001b[0;32m    <a href='file:///c%3A/python310/lib/_strptime.py?line=350'>351</a>\u001b[0m \u001b[39mif\u001b[39;00m \u001b[39mlen\u001b[39m(data_string) \u001b[39m!=\u001b[39m found\u001b[39m.\u001b[39mend():\n\u001b[0;32m    <a href='file:///c%3A/python310/lib/_strptime.py?line=351'>352</a>\u001b[0m     \u001b[39mraise\u001b[39;00m \u001b[39mValueError\u001b[39;00m(\u001b[39m\"\u001b[39m\u001b[39munconverted data remains: \u001b[39m\u001b[39m%s\u001b[39;00m\u001b[39m\"\u001b[39m \u001b[39m%\u001b[39m\n\u001b[0;32m    <a href='file:///c%3A/python310/lib/_strptime.py?line=352'>353</a>\u001b[0m                       data_string[found\u001b[39m.\u001b[39mend():])\n",
      "\u001b[1;31mValueError\u001b[0m: time data 'Tue/Mar/22 10:58:23:136976' does not match format '%A/%B/%Y %I:%M:%S:%f'"
     ]
    }
   ],
   "source": [
    "datetime.datetime.strptime('Tue/Mar/22 10:58:23:136976',\"%A/%B/%Y %I:%M:%S:%f\")"
   ]
  }
 ],
 "metadata": {
  "interpreter": {
   "hash": "63b2014fe923bc11fc1089a45e8d8d32d8530e11d1dfc98edf4ada9c05eba13b"
  },
  "kernelspec": {
   "display_name": "Python 3.10.2 64-bit",
   "language": "python",
   "name": "python3"
  },
  "language_info": {
   "codemirror_mode": {
    "name": "ipython",
    "version": 3
   },
   "file_extension": ".py",
   "mimetype": "text/x-python",
   "name": "python",
   "nbconvert_exporter": "python",
   "pygments_lexer": "ipython3",
   "version": "3.10.2"
  },
  "orig_nbformat": 4
 },
 "nbformat": 4,
 "nbformat_minor": 2
}
